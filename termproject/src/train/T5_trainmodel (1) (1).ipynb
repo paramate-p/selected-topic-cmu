{
 "cells": [
  {
   "cell_type": "code",
   "execution_count": 1,
   "id": "8c141ff1-8825-44a3-8295-a811265a7f63",
   "metadata": {},
   "outputs": [
    {
     "name": "stdout",
     "output_type": "stream",
     "text": [
      "\u001b[33mWARNING: Running pip as the 'root' user can result in broken permissions and conflicting behaviour with the system package manager, possibly rendering your system unusable.It is recommended to use a virtual environment instead: https://pip.pypa.io/warnings/venv. Use the --root-user-action option if you know what you are doing and want to suppress this warning.\u001b[0m\u001b[33m\n",
      "\u001b[0m"
     ]
    }
   ],
   "source": [
    "!pip install datasets evaluate rouge_score bert_score wandb sentencepiece accelerate>=0.26.0"
   ]
  },
  {
   "cell_type": "code",
   "execution_count": 2,
   "id": "9c1ba48f-7776-426a-8433-66ff43454d66",
   "metadata": {},
   "outputs": [
    {
     "name": "stderr",
     "output_type": "stream",
     "text": [
      "Failed to detect the name of this notebook, you can set it manually with the WANDB_NOTEBOOK_NAME environment variable to enable code saving.\n",
      "[nltk_data] Downloading package punkt to /root/nltk_data...\n",
      "[nltk_data]   Package punkt is already up-to-date!\n"
     ]
    },
    {
     "data": {
      "text/plain": [
       "True"
      ]
     },
     "execution_count": 2,
     "metadata": {},
     "output_type": "execute_result"
    }
   ],
   "source": [
    "import numpy as np\n",
    "import torch\n",
    "from datasets import load_dataset\n",
    "from transformers import (\n",
    "    T5ForConditionalGeneration,\n",
    "    T5Tokenizer,\n",
    "    Trainer,\n",
    "    TrainingArguments,\n",
    "    DataCollatorForSeq2Seq\n",
    ")\n",
    "from transformers import EarlyStoppingCallback\n",
    "import nltk\n",
    "from nltk.tokenize import sent_tokenize\n",
    "from bert_score import score as bert_score\n",
    "import evaluate\n",
    "\n",
    "import wandb\n",
    "wandb.init(mode=\"disabled\")  # ปิด wandb\n",
    "# Download necessary NLTK packages\n",
    "nltk.download('punkt')"
   ]
  },
  {
   "cell_type": "code",
   "execution_count": 3,
   "id": "2c7e663b-406e-4451-bcbf-1fbfeb4958a4",
   "metadata": {},
   "outputs": [
    {
     "data": {
      "application/vnd.jupyter.widget-view+json": {
       "model_id": "84e7986d6e624ca591ced103b4cb2893",
       "version_major": 2,
       "version_minor": 0
      },
      "text/plain": [
       "Generating train split: 0 examples [00:00, ? examples/s]"
      ]
     },
     "metadata": {},
     "output_type": "display_data"
    },
    {
     "data": {
      "application/vnd.jupyter.widget-view+json": {
       "model_id": "7009a8c1dff444ecb7dc37383872254a",
       "version_major": 2,
       "version_minor": 0
      },
      "text/plain": [
       "Generating validation split: 0 examples [00:00, ? examples/s]"
      ]
     },
     "metadata": {},
     "output_type": "display_data"
    }
   ],
   "source": [
    "train_path = \"./train_set_qsum.csv\"\n",
    "val_path = \"./val_set_qsum.csv\"\n",
    "\n",
    "# Load datasets using the datasets library\n",
    "dataset = load_dataset(\"csv\", data_files={\"train\": train_path, \"validation\": val_path})"
   ]
  },
  {
   "cell_type": "code",
   "execution_count": 4,
   "id": "1d0f5f40-2a9c-47fe-bce5-eb7681ea26b8",
   "metadata": {},
   "outputs": [
    {
     "name": "stderr",
     "output_type": "stream",
     "text": [
      "You are using the default legacy behaviour of the <class 'transformers.models.t5.tokenization_t5.T5Tokenizer'>. This is expected, and simply means that the `legacy` (previous) behavior will be used so nothing changes for you. If you want to use the new behaviour, set `legacy=False`. This should only be set if you understand what it means, and thoroughly read the reason why this was added as explained in https://github.com/huggingface/transformers/pull/24565\n"
     ]
    },
    {
     "data": {
      "application/vnd.jupyter.widget-view+json": {
       "model_id": "893c2f01502f48cba69b690f39b22777",
       "version_major": 2,
       "version_minor": 0
      },
      "text/plain": [
       "Running tokenizer on dataset:   0%|          | 0/1143 [00:00<?, ? examples/s]"
      ]
     },
     "metadata": {},
     "output_type": "display_data"
    },
    {
     "name": "stderr",
     "output_type": "stream",
     "text": [
      "/opt/conda/lib/python3.11/site-packages/transformers/tokenization_utils_base.py:3970: UserWarning: `as_target_tokenizer` is deprecated and will be removed in v5 of Transformers. You can tokenize your labels by using the argument `text_target` of the regular `__call__` method (either in the same call as your input texts if you use the same keyword arguments, or in a separate call.\n",
      "  warnings.warn(\n"
     ]
    },
    {
     "data": {
      "application/vnd.jupyter.widget-view+json": {
       "model_id": "c92737822d8a44e9b1055cc6b03ce9cf",
       "version_major": 2,
       "version_minor": 0
      },
      "text/plain": [
       "Running tokenizer on dataset:   0%|          | 0/286 [00:00<?, ? examples/s]"
      ]
     },
     "metadata": {},
     "output_type": "display_data"
    },
    {
     "name": "stderr",
     "output_type": "stream",
     "text": [
      "/tmp/ipykernel_2502/4024156267.py:82: FutureWarning: `tokenizer` is deprecated and will be removed in version 5.0.0 for `Trainer.__init__`. Use `processing_class` instead.\n",
      "  trainer = Trainer(\n",
      "\u001b[34m\u001b[1mwandb\u001b[0m: \u001b[33mWARNING\u001b[0m The `run_name` is currently set to the same value as `TrainingArguments.output_dir`. If this was not intended, please specify a different run name by setting the `TrainingArguments.run_name` parameter.\n",
      "Using EarlyStoppingCallback without load_best_model_at_end=True. Once training is finished, the best model will not be loaded automatically.\n"
     ]
    },
    {
     "name": "stdout",
     "output_type": "stream",
     "text": [
      "\n",
      "Testing data collator with a small batch:\n",
      "Error in data collator: 0\n",
      "\n",
      "Starting training...\n"
     ]
    },
    {
     "name": "stderr",
     "output_type": "stream",
     "text": [
      "Passing a tuple of `past_key_values` is deprecated and will be removed in Transformers v4.48.0. You should pass an instance of `EncoderDecoderCache` instead, e.g. `past_key_values=EncoderDecoderCache.from_legacy_cache(past_key_values)`.\n"
     ]
    },
    {
     "data": {
      "text/html": [
       "\n",
       "    <div>\n",
       "      \n",
       "      <progress value='7750' max='8580' style='width:300px; height:20px; vertical-align: middle;'></progress>\n",
       "      [7750/8580 07:04 < 00:45, 18.23 it/s, Epoch 27/30]\n",
       "    </div>\n",
       "    <table border=\"1\" class=\"dataframe\">\n",
       "  <thead>\n",
       " <tr style=\"text-align: left;\">\n",
       "      <th>Step</th>\n",
       "      <th>Training Loss</th>\n",
       "      <th>Validation Loss</th>\n",
       "    </tr>\n",
       "  </thead>\n",
       "  <tbody>\n",
       "    <tr>\n",
       "      <td>250</td>\n",
       "      <td>4.840600</td>\n",
       "      <td>4.417253</td>\n",
       "    </tr>\n",
       "    <tr>\n",
       "      <td>500</td>\n",
       "      <td>4.325700</td>\n",
       "      <td>4.047715</td>\n",
       "    </tr>\n",
       "    <tr>\n",
       "      <td>750</td>\n",
       "      <td>4.163500</td>\n",
       "      <td>3.916780</td>\n",
       "    </tr>\n",
       "    <tr>\n",
       "      <td>1000</td>\n",
       "      <td>4.040400</td>\n",
       "      <td>3.844207</td>\n",
       "    </tr>\n",
       "    <tr>\n",
       "      <td>1250</td>\n",
       "      <td>3.954200</td>\n",
       "      <td>3.792900</td>\n",
       "    </tr>\n",
       "    <tr>\n",
       "      <td>1500</td>\n",
       "      <td>3.887500</td>\n",
       "      <td>3.748579</td>\n",
       "    </tr>\n",
       "    <tr>\n",
       "      <td>1750</td>\n",
       "      <td>3.816100</td>\n",
       "      <td>3.714562</td>\n",
       "    </tr>\n",
       "    <tr>\n",
       "      <td>2000</td>\n",
       "      <td>3.777600</td>\n",
       "      <td>3.687241</td>\n",
       "    </tr>\n",
       "    <tr>\n",
       "      <td>2250</td>\n",
       "      <td>3.771800</td>\n",
       "      <td>3.665784</td>\n",
       "    </tr>\n",
       "    <tr>\n",
       "      <td>2500</td>\n",
       "      <td>3.661600</td>\n",
       "      <td>3.653906</td>\n",
       "    </tr>\n",
       "    <tr>\n",
       "      <td>2750</td>\n",
       "      <td>3.598100</td>\n",
       "      <td>3.639643</td>\n",
       "    </tr>\n",
       "    <tr>\n",
       "      <td>3000</td>\n",
       "      <td>3.576500</td>\n",
       "      <td>3.628742</td>\n",
       "    </tr>\n",
       "    <tr>\n",
       "      <td>3250</td>\n",
       "      <td>3.579800</td>\n",
       "      <td>3.623166</td>\n",
       "    </tr>\n",
       "    <tr>\n",
       "      <td>3500</td>\n",
       "      <td>3.507700</td>\n",
       "      <td>3.611638</td>\n",
       "    </tr>\n",
       "    <tr>\n",
       "      <td>3750</td>\n",
       "      <td>3.539400</td>\n",
       "      <td>3.607213</td>\n",
       "    </tr>\n",
       "    <tr>\n",
       "      <td>4000</td>\n",
       "      <td>3.458000</td>\n",
       "      <td>3.598932</td>\n",
       "    </tr>\n",
       "    <tr>\n",
       "      <td>4250</td>\n",
       "      <td>3.459400</td>\n",
       "      <td>3.595628</td>\n",
       "    </tr>\n",
       "    <tr>\n",
       "      <td>4500</td>\n",
       "      <td>3.436900</td>\n",
       "      <td>3.591793</td>\n",
       "    </tr>\n",
       "    <tr>\n",
       "      <td>4750</td>\n",
       "      <td>3.398300</td>\n",
       "      <td>3.588343</td>\n",
       "    </tr>\n",
       "    <tr>\n",
       "      <td>5000</td>\n",
       "      <td>3.428700</td>\n",
       "      <td>3.587623</td>\n",
       "    </tr>\n",
       "    <tr>\n",
       "      <td>5250</td>\n",
       "      <td>3.343100</td>\n",
       "      <td>3.582729</td>\n",
       "    </tr>\n",
       "    <tr>\n",
       "      <td>5500</td>\n",
       "      <td>3.374400</td>\n",
       "      <td>3.581202</td>\n",
       "    </tr>\n",
       "    <tr>\n",
       "      <td>5750</td>\n",
       "      <td>3.370800</td>\n",
       "      <td>3.582639</td>\n",
       "    </tr>\n",
       "    <tr>\n",
       "      <td>6000</td>\n",
       "      <td>3.345900</td>\n",
       "      <td>3.576551</td>\n",
       "    </tr>\n",
       "    <tr>\n",
       "      <td>6250</td>\n",
       "      <td>3.308800</td>\n",
       "      <td>3.578242</td>\n",
       "    </tr>\n",
       "    <tr>\n",
       "      <td>6500</td>\n",
       "      <td>3.306300</td>\n",
       "      <td>3.576544</td>\n",
       "    </tr>\n",
       "    <tr>\n",
       "      <td>6750</td>\n",
       "      <td>3.308100</td>\n",
       "      <td>3.575165</td>\n",
       "    </tr>\n",
       "    <tr>\n",
       "      <td>7000</td>\n",
       "      <td>3.315900</td>\n",
       "      <td>3.574345</td>\n",
       "    </tr>\n",
       "    <tr>\n",
       "      <td>7250</td>\n",
       "      <td>3.247900</td>\n",
       "      <td>3.575032</td>\n",
       "    </tr>\n",
       "    <tr>\n",
       "      <td>7500</td>\n",
       "      <td>3.292900</td>\n",
       "      <td>3.576741</td>\n",
       "    </tr>\n",
       "    <tr>\n",
       "      <td>7750</td>\n",
       "      <td>3.273300</td>\n",
       "      <td>3.574767</td>\n",
       "    </tr>\n",
       "  </tbody>\n",
       "</table><p>"
      ],
      "text/plain": [
       "<IPython.core.display.HTML object>"
      ]
     },
     "metadata": {},
     "output_type": "display_data"
    }
   ],
   "source": [
    "# Define model name\n",
    "model_name = \"t5-small\"  # Options: t5-small, t5-base, t5-large, t5-3b, t5-11b\n",
    "\n",
    "# Initialize tokenizer\n",
    "tokenizer = T5Tokenizer.from_pretrained(model_name)\n",
    "\n",
    "# Define max lengths (adjust based on your data)\n",
    "max_input_length = 512\n",
    "max_target_length = 128\n",
    "\n",
    "# Modified preprocessing function to handle list data\n",
    "def preprocess_function(examples):\n",
    "    inputs = [\"summarize: \" + text for text in examples[\"clean_input\"]]\n",
    "    model_inputs = tokenizer(inputs, max_length=max_input_length, padding=\"max_length\", truncation=True)\n",
    "\n",
    "    # Setup the tokenizer for targets\n",
    "    with tokenizer.as_target_tokenizer():\n",
    "        labels = tokenizer(examples[\"clean_output\"], max_length=max_target_length, padding=\"max_length\", truncation=True)\n",
    "\n",
    "    # Replace padding token id with -100 in labels so it's ignored in loss calculation\n",
    "    labels[\"input_ids\"] = [\n",
    "        [(label if label != tokenizer.pad_token_id else -100) for label in labels_example]\n",
    "        for labels_example in labels[\"input_ids\"]\n",
    "    ]\n",
    "\n",
    "    model_inputs[\"labels\"] = labels[\"input_ids\"]\n",
    "    return model_inputs\n",
    "\n",
    "# Apply preprocessing to the datasets\n",
    "tokenized_datasets = dataset.map(\n",
    "    preprocess_function,\n",
    "    batched=True,\n",
    "    remove_columns=dataset[\"train\"].column_names,  # Remove original columns\n",
    "    desc=\"Running tokenizer on dataset\",\n",
    ")\n",
    "\n",
    "# Let's modify the compute_metrics function to avoid the error\n",
    "def compute_metrics(eval_preds):\n",
    "    # Simple placeholder metrics function that doesn't use the tokenizer directly\n",
    "    # This avoids the error during evaluation\n",
    "    preds, labels = eval_preds\n",
    "    if isinstance(preds, tuple):\n",
    "        preds = preds[0]\n",
    "\n",
    "    # Calculate accuracy (simple metric that doesn't use tokenizer)\n",
    "    # Just to avoid the error during training\n",
    "    accuracy = np.mean(np.equal(preds.argmax(-1), labels))\n",
    "\n",
    "    return {\"accuracy\": accuracy}\n",
    "\n",
    "# Initialize model\n",
    "model = T5ForConditionalGeneration.from_pretrained(model_name)\n",
    "\n",
    "# Data collator - use model instance directly\n",
    "data_collator = DataCollatorForSeq2Seq(\n",
    "    tokenizer=tokenizer,\n",
    "    model=model,\n",
    "    padding=True,\n",
    "    return_tensors=\"pt\"\n",
    ")\n",
    "\n",
    "# Define training arguments - disable evaluation for now\n",
    "training_args = TrainingArguments(\n",
    "    output_dir=\"./results\",\n",
    "    num_train_epochs=30,\n",
    "    per_device_train_batch_size=4,\n",
    "    per_device_eval_batch_size=4,\n",
    "    warmup_steps=1500,\n",
    "    weight_decay=0.01,\n",
    "    logging_dir='./logs',\n",
    "    logging_steps=100,\n",
    "    # Disable evaluation during training to avoid the error\n",
    "    eval_strategy=\"steps\",\n",
    "    eval_steps=250,\n",
    "    save_steps=250,\n",
    "    load_best_model_at_end=False,\n",
    "    metric_for_best_model=\"eval_loss\" ,\n",
    "    fp16=True  # Disable mixed precision training for troubleshooting\n",
    ")\n",
    "\n",
    "# Initialize trainer - don't use compute_metrics for now\n",
    "trainer = Trainer(\n",
    "    model=model,\n",
    "    args=training_args,\n",
    "    train_dataset=tokenized_datasets[\"train\"],\n",
    "    eval_dataset=tokenized_datasets[\"validation\"],\n",
    "    tokenizer=tokenizer,\n",
    "    data_collator=data_collator,\n",
    "    callbacks=[EarlyStoppingCallback(early_stopping_patience=3)]\n",
    "    # Remove compute_metrics to simplify troubleshooting\n",
    ")\n",
    "\n",
    "# Debug: Let's check a small batch through the data collator\n",
    "print(\"\\nTesting data collator with a small batch:\")\n",
    "sample_batch = {\n",
    "    key: tokenized_datasets[\"train\"][0:4][key]\n",
    "    for key in tokenized_datasets[\"train\"][0:4].keys()\n",
    "}\n",
    "try:\n",
    "    # Process a batch through the data collator\n",
    "    collated_batch = data_collator(sample_batch)\n",
    "    print(\"Data collator successful!\")\n",
    "    # Print batch shape info\n",
    "    for key, value in collated_batch.items():\n",
    "        print(f\"{key}: shape {value.shape}\")\n",
    "except Exception as e:\n",
    "    print(f\"Error in data collator: {e}\")\n",
    "\n",
    "# Train model - with minimal functionality to debug the core issue\n",
    "print(\"\\nStarting training...\")\n",
    "try:\n",
    "    trainer.train()\n",
    "except Exception as e:\n",
    "    print(f\"Error during training: {e}\")\n",
    "    import traceback\n",
    "    traceback.print_exc()\n",
    "\n",
    "    # Let's try to identify exactly where the error is happening\n",
    "    print(\"\\nTrying to debug the specific issue...\")\n",
    "\n",
    "    # Check if the error is happening in the forward pass\n",
    "    print(\"Testing model forward pass:\")\n",
    "    try:\n",
    "        # Get a single batch\n",
    "        batch = next(iter(trainer.get_train_dataloader()))\n",
    "        # Move to the same device as model\n",
    "        batch = {k: v.to(model.device) for k, v in batch.items()}\n",
    "        # Run forward pass\n",
    "        outputs = model(**batch)\n",
    "        print(\"Model forward pass successful!\")\n",
    "    except Exception as e:\n",
    "        print(f\"Error in model forward pass: {e}\")\n",
    "        traceback.print_exc()"
   ]
  },
  {
   "cell_type": "code",
   "execution_count": 5,
   "id": "44bdb916-1dea-466f-b1a8-b1e0618482ec",
   "metadata": {},
   "outputs": [
    {
     "name": "stdout",
     "output_type": "stream",
     "text": [
      "Model saved to ./t5small-finetuned-qmsum\n"
     ]
    }
   ],
   "source": [
    "# Save the model\n",
    "model_path = \"./t5small-finetuned-qmsum\"\n",
    "model.save_pretrained(model_path)\n",
    "tokenizer.save_pretrained(model_path)\n",
    "print(f\"Model saved to {model_path}\")"
   ]
  },
  {
   "cell_type": "code",
   "execution_count": 6,
   "id": "4d7cf231-90d8-42a6-b035-ce5f66664f9a",
   "metadata": {},
   "outputs": [
    {
     "data": {
      "application/vnd.jupyter.widget-view+json": {
       "model_id": "b230254bb024494bafb2e78a6f4ecce6",
       "version_major": 2,
       "version_minor": 0
      },
      "text/plain": [
       "Generating test split: 0 examples [00:00, ? examples/s]"
      ]
     },
     "metadata": {},
     "output_type": "display_data"
    }
   ],
   "source": [
    "# Load your test CSV dataset\n",
    "test_path = \"./test_set_qsum.csv\"\n",
    "test_dataset = load_dataset(\"csv\", data_files={\"test\": test_path})[\"test\"]\n",
    "\n",
    "# Load T5 tokenizer and model\n",
    "model_path = \"./t5small-finetuned-qmsum\"  # Your saved model path\n",
    "tokenizer = T5Tokenizer.from_pretrained(model_path)\n",
    "model = T5ForConditionalGeneration.from_pretrained(model_path).to(\"cuda\")\n",
    "\n",
    "def generate_answer_T5(batch):\n",
    "    # Tokenize the input text with the T5 prefix\n",
    "    inputs = [\"summarize: \" + text for text in batch[\"clean_input\"]]\n",
    "    inputs_dict = tokenizer(\n",
    "        inputs,\n",
    "        padding=\"max_length\",\n",
    "        truncation=True,\n",
    "        max_length=512,  # Match the max_length used during training\n",
    "        return_tensors=\"pt\"\n",
    "    )\n",
    "    input_ids = inputs_dict.input_ids.to(\"cuda\")\n",
    "    attention_mask = inputs_dict.attention_mask.to(\"cuda\")\n",
    "\n",
    "    # Generate predictions\n",
    "    with torch.no_grad():\n",
    "        predicted_ids = model.generate(\n",
    "            input_ids=input_ids,\n",
    "            attention_mask=attention_mask,\n",
    "            max_length=128,  # Match the target length used during training\n",
    "            num_beams=4,     # Beam search for better quality summaries\n",
    "            early_stopping=True,\n",
    "            no_repeat_ngram_size=2\n",
    "        )\n",
    "\n",
    "    # Decode the generated tokens to text\n",
    "    batch[\"predicted_output\"] = tokenizer.batch_decode(predicted_ids, skip_special_tokens=True)\n",
    "    return batch"
   ]
  },
  {
   "cell_type": "code",
   "execution_count": 7,
   "id": "a796dea2-65af-4d9b-870a-e23bf479efc4",
   "metadata": {},
   "outputs": [
    {
     "name": "stderr",
     "output_type": "stream",
     "text": [
      "[nltk_data] Downloading package punkt_tab to /root/nltk_data...\n",
      "[nltk_data]   Unzipping tokenizers/punkt_tab.zip.\n",
      "[nltk_data] Downloading package stopwords to /root/nltk_data...\n",
      "[nltk_data]   Unzipping corpora/stopwords.zip.\n",
      "[nltk_data] Downloading package wordnet to /root/nltk_data...\n",
      "[nltk_data] Downloading package omw-1.4 to /root/nltk_data...\n"
     ]
    }
   ],
   "source": [
    "import re\n",
    "import nltk\n",
    "from nltk.corpus import stopwords\n",
    "from nltk.stem import WordNetLemmatizer\n",
    "\n",
    "# Download necessary NLTK resources\n",
    "nltk.download('punkt_tab')\n",
    "nltk.download('stopwords')\n",
    "nltk.download('wordnet')\n",
    "nltk.download('omw-1.4')\n",
    "\n",
    "# Define stopwords and the lemmatizer\n",
    "stop_words = set(stopwords.words('english'))\n",
    "lemmatizer = WordNetLemmatizer()\n",
    "\n",
    "def clean_text(text):\n",
    "    # Convert text to lowercase\n",
    "    text = text.lower()\n",
    "    # Remove digits\n",
    "    text = re.sub(r'\\d+', '', text)\n",
    "    # Remove punctuation (keeps alphanumeric and whitespace)\n",
    "    text = re.sub(r'[^\\w\\s]', '', text)\n",
    "    # Remove extra whitespace\n",
    "    text = re.sub(r'\\s+', ' ', text).strip()\n",
    "    # Tokenize the text into words\n",
    "    words = text.split()\n",
    "    # Remove stopwords and lemmatize each word\n",
    "    words = [lemmatizer.lemmatize(word) for word in words if word not in stop_words]\n",
    "    # Join words back into a string\n",
    "    return \" \".join(words)\n",
    "\n",
    "def clean_dataset(example):\n",
    "    # Clean both the input and output fields\n",
    "    example[\"clean_input\"] = clean_text(example[\"input\"])\n",
    "    example[\"clean_output\"] = clean_text(example[\"output\"])\n",
    "    return example\n"
   ]
  },
  {
   "cell_type": "code",
   "execution_count": 8,
   "id": "accd2b5d-fb65-4b3d-80c9-6d28573b1cad",
   "metadata": {},
   "outputs": [
    {
     "name": "stdout",
     "output_type": "stream",
     "text": [
      "{'id': 'tr-sq-440', 'pid': 'tr-sq-440_0', 'input': \"What did User Interface introduce about the detailed design of the prototype?\\nProject Manager: Welcome back.\\nIndustrial Designer: I'm sorry to be late.\\nProject Manager: Welcome back everybody.\\nUser Interface: Yeah. Thanks.\\nProject Manager: So this meeting agenda will be the detailed design meeting. And uh opening and uh P_M_s {gap} of the meet minutes, uh prototype presentation from uh Christine and uh Agnes.\\nIndustrial Designer: Agnes, yes.\\nProject Manager: Yes and uh evaluation criteria. The finance, it's uh from my side, from the management, and uh production evaluation. Then uh closing. So we have forty minutes to discuss and uh finalise and close the product and project and to move further, okay, so {disfmarker} Okay, let's talk about uh maybe first uh for the prototype.\\nUser Interface: Mm, okay.\\nProject Manager: So I handle to {disfmarker}\\nUser Interface: I've done a presentation, but it pretty much covers work that we've both done, so if I'm missing anything, Christine can just correct me.\\nProject Manager: So shall I go to {disfmarker} sorry.\\nIndustrial Designer: Uh thank you, so you did a PowerPoint presentation, good for you. {vocalsound}\\nProject Manager: Yep. S Okay, let's go to A_M_I_.\\nUser Interface: {vocalsound} It's not the biggest PowerPoint presentation in the world, but {disfmarker}\\nIndustrial Designer: {vocalsound}\\nMarketing: {vocalsound}\\nProject Manager: {vocalsound} So in two or three or {disfmarker}\\nIndustrial Designer: {vocalsound}\\nUser Interface: Three. Um. {vocalsound} No it's {disfmarker}\\nMarketing: Probably. Technical pa I would think.\\nUser Interface: think it's the last one. No, then this is {vocalsound} the la yeah, that one, final design.\\nMarketing: Ha.\\nProject Manager: Yeah.\\nUser Interface: It is named appropriately, you just couldn't see the name.\\nIndustrial Designer: {vocalsound}\\nMarketing: {vocalsound}\\nUser Interface: {vocalsound} Um okay, can I have the mouse?\\nProject Manager: Yes.\\nUser Interface: Thanks. Alright, so from {disfmarker} when we were discussing specifying the case in the last meeting, we decided that we wanted an ergonomic shape, the material that we chose was wood, and uh the colour would be customisable,'cause you can stain the wood whatever colour. Um, so in terms of function, you have to be able to turn the T_V_ on and off, volume and channel control, menu control, voice recognition control, and we've incorporated the L_C_D_ screen on the flip panel as part of the design, if we figure out it's too expensive, well then you just take it off. {vocalsound} Um, so {vocalsound} to unveil our lovely product. This is our remote control, with the flip panel as you can see.\\nMarketing: {vocalsound}\\nUser Interface: So if you lift up the panel, you can see the lovely yellow L_C_D_ display. {vocalsound} Um, this is actually hard to do. The yellow button you have is the on off button, so it's really big, hard to miss. You have the the red um triangles are the toggles for changing the volume. So up {disfmarker} volume up, down {disfmarker} volume down. The green are the channel changing. {vocalsound} S And it's one of those very light, very touchable displays. And then you have the numeric pad in the dark blue at the bottom, and on the right-hand side you have the access to the menu on the T_V_, and on the left-hand side you have the the the ability to turn off the voice recognition. So this is pretty much what we had on the white board the last time.\\nProject Manager: Mm-hmm.\\nUser Interface: So.\\nIndustrial Designer: Um and uh I could {disfmarker}\\nUser Interface: {vocalsound} Oh yes.\\nIndustrial Designer: Yeah the d\\nUser Interface: Additional feature on the back is that you can have your own customised backing and I suppose you could do the same thing on the flip case on the front. So that you can really make this a highly highly customisable remote control.\\nIndustrial Designer: We haven't um uh specified where the speaker or the microphone will be placed. That depends on the uh s design of the circuit board inside and uh what room is left um {disfmarker}\\nUser Interface: Yeah.\\nProject Manager: I think the microphone is on on the top, uh on the middle, the {disfmarker} under the flip.\\nIndustrial Designer: Yes, okay. Uh-huh.\\nProject Manager: So that will be the safe, so p any {disfmarker} the chip {disfmarker} it's not on the chip because you need to have microphone {gap} to {disfmarker}\\nIndustrial Designer: No, I mean it depends on the design of the circuit board.\\nProject Manager: Yes.\\nUser Interface: But it shouldn't be under the flip either, because you can have the remote control closed, but you still might want to activate it by voice.\\nProject Manager: {vocalsound} Uh it's it's {disfmarker} Yeah, but uh uh my opinion I think it's better under the flip because whenever you want to uh the talk, okay, so then you can speak then you can close it. But if you put it on the on the flip, okay, then uh technical I don't think it's uh feasible,'cause most of the time you speak then it will be recognised.\\nUser Interface: But if you've already got the remote control in your hand you need to open the flip to use the voice, why use the voice, why not just use your hand? I mean the whole point of the voice is that if the remote control is sitting there and I'm too lazy to reach over and pick it up, I can just use my voice.\\nIndustrial Designer: Maybe I've got my hand in the popcorn bowl and I'm holding my cup of Coca-Cola in the other hand.\\nUser Interface: Yeah. And you don't wanna let go of either one. {vocalsound}\\nMarketing: I don't wanna say. Louder. {vocalsound} Yeah.\\nUser Interface: {vocalsound} I mean it doesn't have to be on the flip, it can be on the side somewhere.\\nMarketing: Can also be on the side.\\nProject Manager: Yeah, the sides maybe is good.\\nUser Interface: Yeah.\\nIndustrial Designer: Mm-hmm.\\nUser Interface: So, I mean I can pass this around if anyone wants to {disfmarker}\\nProject Manager: Yes. So it's maybe good idea.\\nIndustrial Designer: Yeah, y better you pass it around with a napkin. {vocalsound}\\nUser Interface: {vocalsound}\\nMarketing: {vocalsound} No, because y you can easily put a microphone on the side that would have no problem would haven't been {disfmarker} not be damaged or anything, and it'd be accessible all the time to voice.\\nUser Interface: {vocalsound} {vocalsound} Yeah.\\nProject Manager: Yes. Yeah {vocalsound}.\\nUser Interface: Yeah, exactly.\\nMarketing: Yeah.\\nProject Manager: So it's maybe good idea. S s\\nIndustrial Designer: It's um {disfmarker} It's um {disfmarker}\\nMarketing: Compliments to the artist.\\nIndustrial Designer: You need to work on the weight a little bit. {vocalsound}\\nUser Interface: Yes.\\nMarketing: Uh {vocalsound}.\\nProject Manager: Okay. S {vocalsound} I'm fine, I'm satisfi\\nUser Interface: And maybe the shape of the buttons,\\nProject Manager: I'm satisfied.\\nUser Interface: the little egg shapes aren't the most economical, but {disfmarker}\\nIndustrial Designer: {vocalsound} We're glad you're satisfied.\\nProject Manager: Of course it's it's it's looks more heo heavy, but I think when it's completely {gap} maybe it's a less weight.\\nUser Interface: Yeah. I mean this is plasticene.\\nProject Manager: Yes.\\nUser Interface: There's only so much you can do. We could have possibly made it a lot thinner as well. {vocalsound} But {disfmarker} And part of the thing is m a lot of people say that they don't like something that's too light, because they don't feel like they have enough control over it.\\nIndustrial Designer: Mm-hmm.\\nUser Interface: So I mean maybe this is excessively heavy, but I think it needs to have some weight,\\nProject Manager: Yep.\\nUser Interface: it needs to feel like you're still holding something. {vocalsound} So that's pretty much it for our presentation actually.\\nProject Manager: That's your uh prototype model?\\nUser Interface: Yeah.\\nProject Manager: Okay, that's good, thank you very much.\\nMarketing: {vocalsound}\\nProject Manager: So any comments or uh {disfmarker}\\nMarketing: Well, the prototype is is very well within the design and ideas that we've we've talked about on the previous meetings.\\nProject Manager: Okay.\\nMarketing: Now it goes into this next phase as the financial uh marketing uh {disfmarker}\\nProject Manager: {vocalsound} Yes, that uh {disfmarker} So I'll come back to the {disfmarker} {gap} So evaluation criteria, I think uh that will be good, so then let's come to the finance uh, I have some uh calculations which I made uh as for uh the budget. So here you can uh look like uh the energy {gap} and uh {gap} dynamo and uh kinetic and solar cells. Uh it's optional, somewhat optional and Ed wants the chip on print, that's what uh we were talking about that.\\nIndustrial Designer: {vocalsound}\\nProject Manager: So then we have sample sensor and sample speaker, then uh we have the wood material, then special colour and push button. So it's uh {disfmarker} actually, our budget was uh twelve point five Euro, but uh it's coming to nine point nine five Euro, so we are under uh {disfmarker} below the budget, okay, so still we are saving some money. I think it's a good figure. {vocalsound}\\nIndustrial Designer: Yes, great I {disfmarker} I'm surprised.\\nMarketing: {vocalsound}\\nIndustrial Designer: {vocalsound} Congratulations. {vocalsound}\\nProject Manager: {vocalsound} Than thank you. {vocalsound}\\nMarketing: Well we haven't come to mine yet, so {vocalsound}\\nIndustrial Designer: Oh, okay\\nUser Interface: {vocalsound}\\nIndustrial Designer: . It's gonna cost a long way to c you know, cost a lot of money to market it, is it?\\nMarketing: we're gonna have a bit of difference of opinion, yes. {vocalsound} {vocalsound}\\nProject Manager: So maybe it's {disfmarker} for some money we can utilise for our uh marketing, for the sales, okay, and uh {disfmarker}\\nMarketing: {vocalsound} Well, it just depends on if we're gonna add a {vocalsound} o on this pr provisionary cost analysis, we do not have a L_C_ display. L_C_ display is gonna be very expensive,\\nUser Interface: No we do, but it's not filled in.\\nMarketing: it's gonna be {disfmarker}\\nProject Manager: It's not.\\nIndustrial Designer: Thirty.\\nMarketing: It's not {disfmarker} it doesn't say.\\nUser Interface: It's number thirty.\\nProject Manager: Yeah. Yeah.\\nMarketing: We don't have the price up there,\\nUser Interface: Oh, yeah, yeah,\\nProject Manager: Yeah. Yeah.\\nUser Interface: you're right, sorry, yes.\\nIndustrial Designer: Yeah.\\nMarketing: okay, so if we add approximately two to three Euro per remote, now we're up around about twelve, twelve and a half as to what uh the company had initially uh requested. Um {disfmarker}\\nIndustrial Designer: So that means we can put the uh {disfmarker} the L_C_D_ in, yeah.\\nMarketing: Display in. But as far as production um I'm putting up a question because we're talking about profit also, and in mine you'll see uh {vocalsound} the problem with uh our survey, the p the possibility that how many units can be sold, what percentage of the market, etcetera etcetera because that {gap} has to be taken in into consideration.\\nProject Manager: {vocalsound}\\nMarketing: Uh this is just production cost, it is not uh advertising cost, it's not transportation cost uh {disfmarker}\\nProject Manager: Yes, so still uh we have twelve point five Euro.\\nMarketing: {vocalsound} And that will inflate quite a bit the cost of the uh {disfmarker} the cost of the unit for the company.\\nProject Manager: Yes. {gap} Yeah, but {disfmarker} Yes. Yep.\\nUser Interface: Um-hmm.\\nMarketing: So to come up with what the company wants is a fifty million Pound profit, we're gonna have to go a long ways.\\nProject Manager: Yes. This we are talking about one unit, okay, so when it go into the quantity, okay, and the cost will come down.\\nMarketing: {vocalsound} Yes.\\nIndustrial Designer: {vocalsound} Although customisation, because this is being done, you know, the on {disfmarker} on-order basis, it might be uh the the quantity won't m won't uh\\nMarketing: Slightly.\\nProject Manager: Yeah.\\nMarketing: It's gonna be very hard to reduce.\\nUser Interface: Yes.\\nIndustrial Designer: the circuit board will b you're right, would be in producing quantity, but the cost of the case would uh {vocalsound} be fixed at the {disfmarker} Uh you got some pretty cheap labour that can do this case for one Euro.\\nMarketing: That's not bad. {vocalsound}\\nIndustrial Designer: {vocalsound} That's really {disfmarker} that's the cost of the material and lab wow, that's really outstanding.\\nProject Manager: Yep. Yeah. {vocalsound} {vocalsound} But anyhow, still we are under control, okay, so what uh I will do is I will try to negotiate with the vendors, okay, to get uh the production cost less, okay, so then we can save some money, okay, to put into th our marketing or uh you know the promotions, whatever, okay, so that uh I will look after. I will speak to the management and how to get uh you know some more uh cost down.\\nMarketing: If we can go to to my display. And we'll come back to yours\\nProject Manager: Yes.\\nMarketing: just to give everybody an idea of the market. So now I'm gonna scare everybody out of this project. {vocalsound}\\nIndustrial Designer: {vocalsound}\\nUser Interface: {vocalsound}\\nMarketing: If I'm still here.\\nProject Manager: You're in four?\\nMarketing: {gap} Yep The four gives me {disfmarker} it's gotta be uh TrendWatch.\\nProject Manager: TrendWatch.\\nIndustrial Designer: Is this the same one you did before?\\nMarketing: No.\\nIndustrial Designer: Okay.\\nMarketing: It shouldn't be\\nUser Interface: That's {disfmarker} no, I think it's the same one.\\nMarketing: if it's not {disfmarker} it's not the right one. No, no we g no, that's the same one. You have to go back and find another one. Whatever name it popped up under.\\nProject Manager: {vocalsound}\\nUser Interface: Functional.\\nMarketing: Uh functional, try functional, it might not be it either, but we'll see.\\nIndustrial Designer: {vocalsound}\\nUser Interface: It looks like it, there's {disfmarker} {vocalsound} S Yeah.\\nMarketing: Yep, that's it. So we'll go screen by screen.\\nProject Manager: Okay.\\nMarketing: Although {vocalsound} since uh we need to have some type of idea on a market uh we had independent study that says it {disfmarker} this this market has an availability to absorb eight mi eight million units per year. Okay? Our internal company evaluation puts it between eight to nine million which is approximately the same as the independent study.\\nProject Manager: Yep. {vocalsound}\\nMarketing: So if we continue, we'll look at the findings. Next screen. {vocalsound} Which means that uh if we have a target of two million would the company has to take twenty five percent of the market in the first year,\\nProject Manager: Mm-hmm.\\nMarketing: which is actually a tremendous amount.\\nIndustrial Designer: {vocalsound} Yeah, no kidding. {vocalsound}\\nMarketing: No kidding, yeah.\\nIndustrial Designer: Mayb maybe they already expected something.\\nMarketing: So, if we put an inflated price of fifty Euro at a production cost that cannot exceed twenty-five Euro, okay, we're already in that that price, okay,\\nProject Manager: Yes.\\nMarketing: with transport, promotion, labour, because we hav {gap} gi included the promotion in the cost, transport for the material to the stores or whatever how however we're gonna break this down between our our retailers.\\nUser Interface: Um-hmm.\\nMarketing: Twenty-five percent of the market to get to two million units. At two million units, we have to have a profit of twenty-five Euro per unit to get to the fifty million unit Eu Euro profit.\\nProject Manager: Mm-hmm. Yep.\\nMarketing: Okay? So, obviously we w w I just did a run down the evaluation of the form, the fan uh the fancy stylishness of the {disfmarker} of the unit, the ease of use, speech recognition, cost, we've gone through these. Now, the company must evaluate the feasibility of being able to take enough of the market to justify in production. Or we project this over two years, but being that the market changes very very quickly, maybe there's no more interest in buying this thing in eighteen months from now.\\nProject Manager: Yes. Yep. Of course.\\nMarketing: So, now we have to come up with a decision.\\nUser Interface: Mm.\\nMarketing: Can the company sell two million units?\\nProject Manager: Yep.\\nMarketing: Can it sell it for fifty Euros?\\nIndustrial Designer: Could could I go to findings?\\nProject Manager: Yep.\\nIndustrial Designer: Uh uh um I would uh like to explore the possibility of using um alternative um delivery and sales channel which would be um to use the internet for promotion and ordering\\nProject Manager: Yes.\\nUser Interface: {vocalsound} I was thinking the same thing, yeah.\\nIndustrial Designer: and then to drop-ship the p product to the customer's residence.\\nUser Interface: Directly.\\nIndustrial Designer: That way you have no storage, you have no um {disfmarker} you do have transportation, still have the labour cost,\\nUser Interface: Um-hmm.\\nIndustrial Designer: but you don't have the transport to the uh point of sale.\\nProject Manager: Yes.\\nIndustrial Designer: The point of sale is online.\\nUser Interface: Yeah.\\nProject Manager: To the agents.\\nUser Interface: Yeah. You can do a shipping centre somewhere, or strategically place shipping centres to minimise distance costs.\\nIndustrial Designer: Right, like Amazon. In fact, we should sell through Amazon,\\nProject Manager: Yes. Or eBay, or {disfmarker}\\nIndustrial Designer: don't you think? Or eBay, yeah.\\nProject Manager: Yes.\\nUser Interface: Yeah.\\nIndustrial Designer: There's an idea.\\nMarketing: {gap}\\nProject Manager: Yeah, that's a good idea.\\nIndustrial Designer: Going with um {disfmarker}\\nProject Manager: To impro more profit and uh {disfmarker}\\nMarketing: S Upscale technology.\\nProject Manager: Yeah, yes.\\nIndustrial Designer: Ah, we we're do you know, selling a unique product uh. {vocalsound}\\nMarketing: {vocalsound} Well.\\nUser Interface: That actually makes more sense if we're gonna make it so highly customisable,'cause on the web people can look at the different options they have, see maybe what other people have done, what the range of possibility as,\\nIndustrial Designer: Mm.\\nMarketing: There are several companies that have gone that way.\\nUser Interface: whereas if you're in a store, you can't {disfmarker} unless you're a highly imaginative person, you may not really know what it is you want,\\nIndustrial Designer: Mm.\\nUser Interface: whereas on the web, if you have a bunch of pictures, it can sort of trigger ideas and {disfmarker}\\nIndustrial Designer: Mm-hmm. And you can even have an {disfmarker} a movie that you can rotate the object and look at the di the only thing that you're missing really is the weight.\\nUser Interface: Yeah. The weight and feel.\\nMarketing: Weight, the feel of the product, but {disfmarker}\\nIndustrial Designer: Mm.\\nUser Interface: Yeah.\\nIndustrial Designer: We're getting used to that. It's not quite like trying on a shoe, but people are getting used to buying things online that they can't touch before buying.\\nUser Interface: Yeah. Yeah.\\nMarketing: There are several that have gone through with the watches, too. You can customise a watch, you can see how it is at the f at the end of the production,\\nIndustrial Designer: {vocalsound} Uh-huh.\\nUser Interface: Mm-hmm.\\nMarketing: you can change it uh {disfmarker} There's a lot of online that's {disfmarker} that is doing this now.\\nUser Interface: Yes.\\nMarketing: And when you're rotating, you'll look behind and look this way uh {disfmarker} it's possible to do with this, maybe there's a possibility of selling more than two million units in one year, which could {vocalsound} you know, feasibili feasibility uh lower the price of the unit.\\nProject Manager: Yeah.\\nUser Interface: Mm-hmm.\\nProject Manager: We can.\\nIndustrial Designer: Great.\\nProject Manager: I don't think that's uh not possible, it's uh {disfmarker} okay then, l uh let's wait for the production, okay, then uh you can evaluate the product, so how it looks like technically and uh how it look like uh the real.\\nUser Interface: What turnaround time do we have?\\nProject Manager: T\\nUser Interface:'Cause I mean production evaluation can be very very quick or very very long.\\nProject Manager: Oh but {disfmarker} Yes it's it's very quick, of course. It will uh come back in two weeks, okay, it will be ready in two weeks.\\nIndustrial Designer: Works for me.\\nProject Manager: For evaluation, okay.\\nIndustrial Designer: {vocalsound} Prototypes, you mean.\\nProject Manager: Yes, the prototype uh {disfmarker} prototype product evaluation.\\nIndustrial Designer: In um {disfmarker} We probably should do some market tests uh once we have the prototypes and do some orders and things like that and test-market it.\\nProject Manager: Yes. Yes. Yes.\\nMarketing: Well, obviously.\\nUser Interface: Yeah.\\nProject Manager: Yeah.\\nMarketing: Mm that'd have to be thrown out on the market for people to get an idea,\\nProject Manager: So you can take a minimum two weeks to a maximum four weeks.\\nMarketing: to see {disfmarker} get get their {disfmarker}\\nUser Interface: Mm-hmm. Think minimum two weeks if we're gonna develop prototypes and then try to take them to different places and see how people use {disfmarker}\\nProject Manager: Yeah.\\nUser Interface: it's not a trivial task.\\nProject Manager: Yeah, because we we are not going to do it in uh our factory, okay, so we can give it a product evalua\\nUser Interface: No no. We definitely shouldn't do it in our factory. {vocalsound}\\nProject Manager: Yes, yes.\\nIndustrial Designer: {vocalsound}\\nProject Manager: So we'll do it in the other place, and I don't think it's take more than four weeks time. Or uh {disfmarker} Okay, so then the real production we will start once we product evaluation, okay, then uh it's approve from uh the technical team and uh your team, okay, uh from the management, then we can launch in the market. Hm?\\nIndustrial Designer: Any outstanding {disfmarker} {vocalsound}?\\nProject Manager: S Any any other uh questions or uh comments to be discuss?\\nIndustrial Designer: No, I'm\\nUser Interface: What ab\\nIndustrial Designer: {disfmarker} go ahead.\\nMarketing: I think we pretty much covered everything.\\nProject Manager: Okay, so then uh {disfmarker}\\nIndustrial Designer: Did you have something?\\nUser Interface: {vocalsound} Well I was just wondering about if we're gonna do a product evaluation then what about time for redesign if the users come back and tell us no this is bad, this is bad, we want this done differently.\\nProject Manager: Okay uh, let's take like this. Let's proceed with this model, okay, for the for the marketing direction, okay.\\nIndustrial Designer: {vocalsound}\\nProject Manager: So no more changes will be made, okay, in this {disfmarker} the basic design. Okay? So we will introduce m this model and uh let's introduce in the market and let's take the feedback from the customers, then we can uh go for the\\nIndustrial Designer: Second generation.\\nProject Manager: second generation.\\nUser Interface: {vocalsound}\\nProject Manager: Okay. There's no end, there's not limit.\\nIndustrial Designer: {vocalsound}\\nUser Interface: The problem is there might not be a second generation if the first generation flops for some silly reason that we haven't thought of.\\nProject Manager: Every every custom\\nIndustrial Designer: {vocalsound}\\nMarketing: Well, then it may not be.\\nProject Manager: Okay. Well, every customer, okay, they have their own ideas, they have their own test, okay, so there's no end, there's no limit.\\nMarketing: Like people don't like wood. {vocalsound}\\nUser Interface: No, but there's a difference between releasing a product that has been minimally tested and fine-tuned to suit a general range of requirements versus releasing a product that we think will work but we don't really have anything to back it up.\\nMarketing: {gap} very specific.\\nProject Manager: Yeah, so that's the reason you are here for uh the design, okay, I hope you made a good design.\\nUser Interface: Yes, but I'm not everybody.\\nIndustrial Designer: {vocalsound}\\nUser Interface: I mean the whole point of user evaluation is to see what real people need. We have our own motivations in mind, we have our own ideas in mind, but that doesn't mean that that's what's gonna sell.\\nProject Manager: {vocalsound} Yeah, but uh see, we ought to take a few considerations, okay, one is the price consideration, one is future consideration, okay, like uh you can eat uh {disfmarker} you can all eat more chi I can eat more chilli, okay, so i it's a depends on the individual taste, you know,\\nIndustrial Designer: {vocalsound}\\nProject Manager: so we have we have to balance somewhere.\\nUser Interface: Yeah, of course. I'm just trying to point out that I think that your evaluation and redesign turnaround time is too short {disfmarker} well you have no redesign {disfmarker} not you personally, but in the project we have no redesign time and {disfmarker}\\nProject Manager: Yes.\\nIndustrial Designer: Our project doesn't {disfmarker} um\\nProject Manager: Yeah.\\nIndustrial Designer: Ed, d do you know what season of the year or time of the year is the most important for T_V_ remote control sales?\\nMarketing: Hmm.\\nIndustrial Designer: Would it be the Christmas season by any chance?\\nProject Manager: The sports time.\\nIndustrial Designer: Sports season. Which sport season?\\nMarketing: Right before the Eur {vocalsound} the World Cup. {vocalsound} World soccer. World Cup soccer,\\nProject Manager: Football.\\nIndustrial Designer: So {disfmarker} so\\nUser Interface: Yeah. {vocalsound}\\nMarketing: they need those things that they have their hands g occupied and they need to be able to talk to the con remote control.\\nProject Manager: Football.\\nIndustrial Designer: maybe what {vocalsound} {disfmarker}\\nUser Interface: {vocalsound}\\nIndustrial Designer: So I think what we need to do is perhaps to synchronise the final {disfmarker} the the launch of a user-tested device with some {gap} special event.\\nMarketing: {vocalsound}\\nProject Manager: Yes. Yes.\\nIndustrial Designer: And and then um {disfmarker}\\nUser Interface: Yeah, that's a good idea.\\nIndustrial Designer: so that gives us a little more time perhaps then we anticipated, because I don't know when the World Cup is, but I'm sure there's gonna be one.\\nMarketing: {vocalsound} Or any major sports.\\nIndustrial Designer: Or another {gap} m major sports event. Probably not the um the football games coming up the end of January. I think that might be a little too aggressive um,\\nProject Manager: Yes.\\nUser Interface: Yeah.\\nIndustrial Designer: but, so, I'm just ig uh pointing out a uh a strategy to uh do some additional user testing\\nProject Manager: Research.\\nIndustrial Designer: pri and then to launch um at a a major sports event\\nUser Interface: Mm-hmm.\\nProject Manager: Yep.\\nIndustrial Designer: or uh perhaps to uh also {disfmarker}\\nUser Interface: {vocalsound} That's actually good place to advertise it too.\\nIndustrial Designer: And to work with motion pictures.\\nUser Interface: Yeah.\\nIndustrial Designer: {vocalsound} There might be some motion pictures that are coming out um {disfmarker} that are coming out on D_V_D_ that uh they need to have a m special remote control to work with it, so we could maybe work out a campaign with uh with Sony Pictures for example.\\nProject Manager: Yes.\\nIndustrial Designer: Maybe some management has got uh relationships there we can leverage.\\nUser Interface: Mm-hmm.\\nProject Manager: Yes, the {disfmarker} that of course uh I will convince the management to do that, okay.\\nIndustrial Designer: {vocalsound} That's great. {vocalsound}\\nUser Interface: It's just something to to keep in mind,'cause it's really really important.\\nProject Manager: {vocalsound} Sure, sure, yes.\\nUser Interface: A lot of products have gone out there without being properly user-tested and completely flopped, when in fact it gets re-released a few years down the line with proper testing and it takes off like crazy.\\nIndustrial Designer: Disposable diapers is an example of that in fact. {vocalsound}\\nUser Interface: {vocalsound} Really?\\nIndustrial Designer: Yes, it is one of the first consumer products that was launched about thirty years {disfmarker} that was a disposable consumer product,\\nUser Interface: {vocalsound} That I didn't know. {vocalsound}\\nIndustrial Designer: and uh people {disfmarker} the market hadn't really {vocalsound} gotten on to the concept that you could use something and then throw it away,'cause it wasn't uh {disfmarker}\\nUser Interface: Mm-hmm.\\nIndustrial Designer: but then when they re-launched them thirty years later, they were virtually the same design,\\nProject Manager: {gap}.\\nIndustrial Designer: but people had gotten the throw-away, you know, paper cups and napki y all kinds of things that they hadn't um {disfmarker} so, you're right, timing is very important,\\nUser Interface: Yeah.\\nProject Manager: Yeah.\\nIndustrial Designer: but I think we've got a good product.\\nProject Manager: That's the reason Ed is here.\\nUser Interface: Yeah.\\nProject Manager: I think he can promote the the brand value and the product value.\\nIndustrial Designer: That's right. It's gonna be very important to the company. {vocalsound}\\nProject Manager: Yes. We are behind the scene and he is the front screen, so.\\nUser Interface: Yep.\\nProject Manager: He's on the big screen.\\nMarketing: Yeah, I'm the one who takes the heat.\\nUser Interface: {vocalsound} Exactly. {vocalsound}\\nIndustrial Designer: {vocalsound} Good luck, Ed.\\nMarketing: {vocalsound} If it's a flop, it's the marketer. {vocalsound}\\nIndustrial Designer: {vocalsound} You look very relaxed, considering h you know, the uh the weight on your shoulders, yeah.\\nMarketing: {vocalsound} Yes. Yes. Stress. {vocalsound}\\nUser Interface: {vocalsound}\\nProject Manager: Okay, so then uh let's come to the closing and uh are the costs within the budget\\nMarketing: Celebration. {vocalsound}\\nProject Manager: and uh is the product evaluated, okay, so that will uh come soon. Okay for uh {disfmarker} but our time being, so thanks for all your efforts and great work and uh great design and uh let's leave it to the Ed for later for once production is over and the meantime let's celebrate. So let's meet up uh this evening to hang up for some party.\\nIndustrial Designer: {vocalsound}\\nUser Interface: {vocalsound}\\nMarketing: {vocalsound}\\nIndustrial Designer: Sounds good.\\nProject Manager:'S good.\\nIndustrial Designer: Thank you.\\nUser Interface: Okay.\\nMarketing: {vocalsound} Very good.\\nIndustrial Designer: Nice working with you.\\nMarketing: Thank you very much.\\nProject Manager: Thank you. Thank you again for all.\\nUser Interface: Thanks\\nIndustrial Designer: {vocalsound}\\nUser Interface: {vocalsound} {gap} {vocalsound}\\nProject Manager: And see you in the evening for drinks.\\nMarketing: {vocalsound} {vocalsound} Bye-bye. Yep, okay, see you later on. {vocalsound}\\nUser Interface: Bye.\", 'output': 'User Interface suggested that the prototype of the remote control would have an ergonomic shape, be made out of wood and the colour would be customisable. User Interface also introduced the general layout of the white board under the flip: the big yellow button would be charged for turning the TV on and off, the red triangle one would be used to change the volume, while the green one controlled the channel changing. There would be a dark blue numeric pad at the bottom and an LCD screen on the flip panel. The prototype would have a customised backing and front.', 'input_token_count': 6272, 'output_token_count': 112, 'clean_input': 'what did user interface introduce about the detailed design of the prototype project manager welcome back industrial designer im sorry to be late project manager welcome back everybody user interface yeah thanks project manager so this meeting agenda will be the detailed design meeting and uh opening and uh pms gap of the meet minutes uh prototype presentation from uh christine and uh agnes industrial designer agnes yes project manager yes and uh evaluation criteria the finance its uh from my side from the management and uh production evaluation then uh closing so we have forty minutes to discuss and uh finalise and close the product and project and to move further okay so disfmarker okay lets talk about uh maybe first uh for the prototype user interface mm okay project manager so i handle to disfmarker user interface ive done a presentation but it pretty much covers work that weve both done so if im missing anything christine can just correct me project manager so shall i go to disfmarker sorry industrial designer uh thank you so you did a powerpoint presentation good for you vocalsound project manager yep s okay lets go to ami user interface vocalsound its not the biggest powerpoint presentation in the world but disfmarker industrial designer vocalsound marketing vocalsound project manager vocalsound so in two or three or disfmarker industrial designer vocalsound user interface three um vocalsound no its disfmarker marketing probably technical pa i would think user interface think its the last one no then this is vocalsound the la yeah that one final design marketing ha project manager yeah user interface it is named appropriately you just couldnt see the name industrial designer vocalsound marketing vocalsound user interface vocalsound um okay can i have the mouse project manager yes user interface thanks alright so from disfmarker when we were discussing specifying the case in the last meeting we decided that we wanted an ergonomic shape the material that we chose was wood and uh the colour would be customisablecause you can stain the wood whatever colour um so in terms of function you have to be able to turn the tv on and off volume and channel control menu control voice recognition control and weve incorporated the lcd screen on the flip panel as part of the design if we figure out its too expensive well then you just take it off vocalsound um so vocalsound to unveil our lovely product this is our remote control with the flip panel as you can see marketing vocalsound user interface so if you lift up the panel you can see the lovely yellow lcd display vocalsound um this is actually hard to do the yellow button you have is the on off button so its really big hard to miss you have the the red um triangles are the toggles for changing the volume so up disfmarker volume up down disfmarker volume down the green are the channel changing vocalsound s and its one of those very light very touchable displays and then you have the numeric pad in the dark blue at the bottom and on the righthand side you have the access to the menu on the tv and on the lefthand side you have the the the ability to turn off the voice recognition so this is pretty much what we had on the white board the last time project manager mmhmm user interface so industrial designer um and uh i could disfmarker user interface vocalsound oh yes industrial designer yeah the d user interface additional feature on the back is that you can have your own customised backing and i suppose you could do the same thing on the flip case on the front so that you can really make this a highly highly customisable remote control industrial designer we havent um uh specified where the speaker or the microphone will be placed that depends on the uh s design of the circuit board inside and uh what room is left um disfmarker user interface yeah project manager i think the microphone is on on the top uh on the middle the disfmarker under the flip industrial designer yes okay uhhuh project manager so that will be the safe so p any disfmarker the chip disfmarker its not on the chip because you need to have microphone gap to disfmarker industrial designer no i mean it depends on the design of the circuit board project manager yes user interface but it shouldnt be under the flip either because you can have the remote control closed but you still might want to activate it by voice project manager vocalsound uh its its disfmarker yeah but uh uh my opinion i think its better under the flip because whenever you want to uh the talk okay so then you can speak then you can close it but if you put it on the on the flip okay then uh technical i dont think its uh feasiblecause most of the time you speak then it will be recognised user interface but if youve already got the remote control in your hand you need to open the flip to use the voice why use the voice why not just use your hand i mean the whole point of the voice is that if the remote control is sitting there and im too lazy to reach over and pick it up i can just use my voice industrial designer maybe ive got my hand in the popcorn bowl and im holding my cup of cocacola in the other hand user interface yeah and you dont wanna let go of either one vocalsound marketing i dont wanna say louder vocalsound yeah user interface vocalsound i mean it doesnt have to be on the flip it can be on the side somewhere marketing can also be on the side project manager yeah the sides maybe is good user interface yeah industrial designer mmhmm user interface so i mean i can pass this around if anyone wants to disfmarker project manager yes so its maybe good idea industrial designer yeah y better you pass it around with a napkin vocalsound user interface vocalsound marketing vocalsound no because y you can easily put a microphone on the side that would have no problem would havent been disfmarker not be damaged or anything and itd be accessible all the time to voice user interface vocalsound vocalsound yeah project manager yes yeah vocalsound user interface yeah exactly marketing yeah project manager so its maybe good idea s s industrial designer its um disfmarker its um disfmarker marketing compliments to the artist industrial designer you need to work on the weight a little bit vocalsound user interface yes marketing uh vocalsound project manager okay s vocalsound im fine im satisfi user interface and maybe the shape of the buttons project manager im satisfied user interface the little egg shapes arent the most economical but disfmarker industrial designer vocalsound were glad youre satisfied project manager of course its its its looks more heo heavy but i think when its completely gap maybe its a less weight user interface yeah i mean this is plasticene project manager yes user interface theres only so much you can do we could have possibly made it a lot thinner as well vocalsound but disfmarker and part of the thing is m a lot of people say that they dont like something thats too light because they dont feel like they have enough control over it industrial designer mmhmm user interface so i mean maybe this is excessively heavy but i think it needs to have some weight project manager yep user interface it needs to feel like youre still holding something vocalsound so thats pretty much it for our presentation actually project manager thats your uh prototype model user interface yeah project manager okay thats good thank you very much marketing vocalsound project manager so any comments or uh disfmarker marketing well the prototype is is very well within the design and ideas that weve weve talked about on the previous meetings project manager okay marketing now it goes into this next phase as the financial uh marketing uh disfmarker project manager vocalsound yes that uh disfmarker so ill come back to the disfmarker gap so evaluation criteria i think uh that will be good so then lets come to the finance uh i have some uh calculations which i made uh as for uh the budget so here you can uh look like uh the energy gap and uh gap dynamo and uh kinetic and solar cells uh its optional somewhat optional and ed wants the chip on print thats what uh we were talking about that industrial designer vocalsound project manager so then we have sample sensor and sample speaker then uh we have the wood material then special colour and push button so its uh disfmarker actually our budget was uh twelve point five euro but uh its coming to nine point nine five euro so we are under uh disfmarker below the budget okay so still we are saving some money i think its a good figure vocalsound industrial designer yes great i disfmarker im surprised marketing vocalsound industrial designer vocalsound congratulations vocalsound project manager vocalsound than thank you vocalsound marketing well we havent come to mine yet so vocalsound industrial designer oh okay user interface vocalsound industrial designer its gonna cost a long way to c you know cost a lot of money to market it is it marketing were gonna have a bit of difference of opinion yes vocalsound vocalsound project manager so maybe its disfmarker for some money we can utilise for our uh marketing for the sales okay and uh disfmarker marketing vocalsound well it just depends on if were gonna add a vocalsound o on this pr provisionary cost analysis we do not have a lc display lc display is gonna be very expensive user interface no we do but its not filled in marketing its gonna be disfmarker project manager its not industrial designer thirty marketing its not disfmarker it doesnt say user interface its number thirty project manager yeah yeah marketing we dont have the price up there user interface oh yeah yeah project manager yeah yeah user interface youre right sorry yes industrial designer yeah marketing okay so if we add approximately two to three euro per remote now were up around about twelve twelve and a half as to what uh the company had initially uh requested um disfmarker industrial designer so that means we can put the uh disfmarker the lcd in yeah marketing display in but as far as production um im putting up a question because were talking about profit also and in mine youll see uh vocalsound the problem with uh our survey the p the possibility that how many units can be sold what percentage of the market etcetera etcetera because that gap has to be taken in into consideration project manager vocalsound marketing uh this is just production cost it is not uh advertising cost its not transportation cost uh disfmarker project manager yes so still uh we have twelve point five euro marketing vocalsound and that will inflate quite a bit the cost of the uh disfmarker the cost of the unit for the company project manager yes gap yeah but disfmarker yes yep user interface umhmm marketing so to come up with what the company wants is a fifty million pound profit were gonna have to go a long ways project manager yes this we are talking about one unit okay so when it go into the quantity okay and the cost will come down marketing vocalsound yes industrial designer vocalsound although customisation because this is being done you know the on disfmarker onorder basis it might be uh the the quantity wont m wont uh marketing slightly project manager yeah marketing its gonna be very hard to reduce user interface yes industrial designer the circuit board will b youre right would be in producing quantity but the cost of the case would uh vocalsound be fixed at the disfmarker uh you got some pretty cheap labour that can do this case for one euro marketing thats not bad vocalsound industrial designer vocalsound thats really disfmarker thats the cost of the material and lab wow thats really outstanding project manager yep yeah vocalsound vocalsound but anyhow still we are under control okay so what uh i will do is i will try to negotiate with the vendors okay to get uh the production cost less okay so then we can save some money okay to put into th our marketing or uh you know the promotions whatever okay so that uh i will look after i will speak to the management and how to get uh you know some more uh cost down marketing if we can go to to my display and well come back to yours project manager yes marketing just to give everybody an idea of the market so now im gonna scare everybody out of this project vocalsound industrial designer vocalsound user interface vocalsound marketing if im still here project manager youre in four marketing gap yep the four gives me disfmarker its gotta be uh trendwatch project manager trendwatch industrial designer is this the same one you did before marketing no industrial designer okay marketing it shouldnt be user interface thats disfmarker no i think its the same one marketing if its not disfmarker its not the right one no no we g no thats the same one you have to go back and find another one whatever name it popped up under project manager vocalsound user interface functional marketing uh functional try functional it might not be it either but well see industrial designer vocalsound user interface it looks like it theres disfmarker vocalsound s yeah marketing yep thats it so well go screen by screen project manager okay marketing although vocalsound since uh we need to have some type of idea on a market uh we had independent study that says it disfmarker this this market has an availability to absorb eight mi eight million units per year okay our internal company evaluation puts it between eight to nine million which is approximately the same as the independent study project manager yep vocalsound marketing so if we continue well look at the findings next screen vocalsound which means that uh if we have a target of two million would the company has to take twenty five percent of the market in the first year project manager mmhmm marketing which is actually a tremendous amount industrial designer vocalsound yeah no kidding vocalsound marketing no kidding yeah industrial designer mayb maybe they already expected something marketing so if we put an inflated price of fifty euro at a production cost that cannot exceed twentyfive euro okay were already in that that price okay project manager yes marketing with transport promotion labour because we hav gap gi included the promotion in the cost transport for the material to the stores or whatever how however were gonna break this down between our our retailers user interface umhmm marketing twentyfive percent of the market to get to two million units at two million units we have to have a profit of twentyfive euro per unit to get to the fifty million unit eu euro profit project manager mmhmm yep marketing okay so obviously we w w i just did a run down the evaluation of the form the fan uh the fancy stylishness of the disfmarker of the unit the ease of use speech recognition cost weve gone through these now the company must evaluate the feasibility of being able to take enough of the market to justify in production or we project this over two years but being that the market changes very very quickly maybe theres no more interest in buying this thing in eighteen months from now project manager yes yep of course marketing so now we have to come up with a decision user interface mm marketing can the company sell two million units project manager yep marketing can it sell it for fifty euros industrial designer could could i go to findings project manager yep industrial designer uh uh um i would uh like to explore the possibility of using um alternative um delivery and sales channel which would be um to use the internet for promotion and ordering project manager yes user interface vocalsound i was thinking the same thing yeah industrial designer and then to dropship the p product to the customers residence user interface directly industrial designer that way you have no storage you have no um disfmarker you do have transportation still have the labour cost user interface umhmm industrial designer but you dont have the transport to the uh point of sale project manager yes industrial designer the point of sale is online user interface yeah project manager to the agents user interface yeah you can do a shipping centre somewhere or strategically place shipping centres to minimise distance costs industrial designer right like amazon in fact we should sell through amazon project manager yes or ebay or disfmarker industrial designer dont you think or ebay yeah project manager yes user interface yeah industrial designer theres an idea marketing gap project manager yeah thats a good idea industrial designer going with um disfmarker project manager to impro more profit and uh disfmarker marketing s upscale technology project manager yeah yes industrial designer ah we were do you know selling a unique product uh vocalsound marketing vocalsound well user interface that actually makes more sense if were gonna make it so highly customisablecause on the web people can look at the different options they have see maybe what other people have done what the range of possibility as industrial designer mm marketing there are several companies that have gone that way user interface whereas if youre in a store you cant disfmarker unless youre a highly imaginative person you may not really know what it is you want industrial designer mm user interface whereas on the web if you have a bunch of pictures it can sort of trigger ideas and disfmarker industrial designer mmhmm and you can even have an disfmarker a movie that you can rotate the object and look at the di the only thing that youre missing really is the weight user interface yeah the weight and feel marketing weight the feel of the product but disfmarker industrial designer mm user interface yeah industrial designer were getting used to that its not quite like trying on a shoe but people are getting used to buying things online that they cant touch before buying user interface yeah yeah marketing there are several that have gone through with the watches too you can customise a watch you can see how it is at the f at the end of the production industrial designer vocalsound uhhuh user interface mmhmm marketing you can change it uh disfmarker theres a lot of online thats disfmarker that is doing this now user interface yes marketing and when youre rotating youll look behind and look this way uh disfmarker its possible to do with this maybe theres a possibility of selling more than two million units in one year which could vocalsound you know feasibili feasibility uh lower the price of the unit project manager yeah user interface mmhmm project manager we can industrial designer great project manager i dont think thats uh not possible its uh disfmarker okay then l uh lets wait for the production okay then uh you can evaluate the product so how it looks like technically and uh how it look like uh the real user interface what turnaround time do we have project manager t user interfacecause i mean production evaluation can be very very quick or very very long project manager oh but disfmarker yes its its very quick of course it will uh come back in two weeks okay it will be ready in two weeks industrial designer works for me project manager for evaluation okay industrial designer vocalsound prototypes you mean project manager yes the prototype uh disfmarker prototype product evaluation industrial designer in um disfmarker we probably should do some market tests uh once we have the prototypes and do some orders and things like that and testmarket it project manager yes yes yes marketing well obviously user interface yeah project manager yeah marketing mm thatd have to be thrown out on the market for people to get an idea project manager so you can take a minimum two weeks to a maximum four weeks marketing to see disfmarker get get their disfmarker user interface mmhmm think minimum two weeks if were gonna develop prototypes and then try to take them to different places and see how people use disfmarker project manager yeah user interface its not a trivial task project manager yeah because we we are not going to do it in uh our factory okay so we can give it a product evalua user interface no no we definitely shouldnt do it in our factory vocalsound project manager yes yes industrial designer vocalsound project manager so well do it in the other place and i dont think its take more than four weeks time or uh disfmarker okay so then the real production we will start once we product evaluation okay then uh its approve from uh the technical team and uh your team okay uh from the management then we can launch in the market hm industrial designer any outstanding disfmarker vocalsound project manager s any any other uh questions or uh comments to be discuss industrial designer no im user interface what ab industrial designer disfmarker go ahead marketing i think we pretty much covered everything project manager okay so then uh disfmarker industrial designer did you have something user interface vocalsound well i was just wondering about if were gonna do a product evaluation then what about time for redesign if the users come back and tell us no this is bad this is bad we want this done differently project manager okay uh lets take like this lets proceed with this model okay for the for the marketing direction okay industrial designer vocalsound project manager so no more changes will be made okay in this disfmarker the basic design okay so we will introduce m this model and uh lets introduce in the market and lets take the feedback from the customers then we can uh go for the industrial designer second generation project manager second generation user interface vocalsound project manager okay theres no end theres not limit industrial designer vocalsound user interface the problem is there might not be a second generation if the first generation flops for some silly reason that we havent thought of project manager every every custom industrial designer vocalsound marketing well then it may not be project manager okay well every customer okay they have their own ideas they have their own test okay so theres no end theres no limit marketing like people dont like wood vocalsound user interface no but theres a difference between releasing a product that has been minimally tested and finetuned to suit a general range of requirements versus releasing a product that we think will work but we dont really have anything to back it up marketing gap very specific project manager yeah so thats the reason you are here for uh the design okay i hope you made a good design user interface yes but im not everybody industrial designer vocalsound user interface i mean the whole point of user evaluation is to see what real people need we have our own motivations in mind we have our own ideas in mind but that doesnt mean that thats whats gonna sell project manager vocalsound yeah but uh see we ought to take a few considerations okay one is the price consideration one is future consideration okay like uh you can eat uh disfmarker you can all eat more chi i can eat more chilli okay so i its a depends on the individual taste you know industrial designer vocalsound project manager so we have we have to balance somewhere user interface yeah of course im just trying to point out that i think that your evaluation and redesign turnaround time is too short disfmarker well you have no redesign disfmarker not you personally but in the project we have no redesign time and disfmarker project manager yes industrial designer our project doesnt disfmarker um project manager yeah industrial designer ed d do you know what season of the year or time of the year is the most important for tv remote control sales marketing hmm industrial designer would it be the christmas season by any chance project manager the sports time industrial designer sports season which sport season marketing right before the eur vocalsound the world cup vocalsound world soccer world cup soccer project manager football industrial designer so disfmarker so user interface yeah vocalsound marketing they need those things that they have their hands g occupied and they need to be able to talk to the con remote control project manager football industrial designer maybe what vocalsound disfmarker user interface vocalsound industrial designer so i think what we need to do is perhaps to synchronise the final disfmarker the the launch of a usertested device with some gap special event marketing vocalsound project manager yes yes industrial designer and and then um disfmarker user interface yeah thats a good idea industrial designer so that gives us a little more time perhaps then we anticipated because i dont know when the world cup is but im sure theres gonna be one marketing vocalsound or any major sports industrial designer or another gap m major sports event probably not the um the football games coming up the end of january i think that might be a little too aggressive um project manager yes user interface yeah industrial designer but so im just ig uh pointing out a uh a strategy to uh do some additional user testing project manager research industrial designer pri and then to launch um at a a major sports event user interface mmhmm project manager yep industrial designer or uh perhaps to uh also disfmarker user interface vocalsound thats actually good place to advertise it too industrial designer and to work with motion pictures user interface yeah industrial designer vocalsound there might be some motion pictures that are coming out um disfmarker that are coming out on dvd that uh they need to have a m special remote control to work with it so we could maybe work out a campaign with uh with sony pictures for example project manager yes industrial designer maybe some management has got uh relationships there we can leverage user interface mmhmm project manager yes the disfmarker that of course uh i will convince the management to do that okay industrial designer vocalsound thats great vocalsound user interface its just something to to keep in mindcause its really really important project manager vocalsound sure sure yes user interface a lot of products have gone out there without being properly usertested and completely flopped when in fact it gets rereleased a few years down the line with proper testing and it takes off like crazy industrial designer disposable diapers is an example of that in fact vocalsound user interface vocalsound really industrial designer yes it is one of the first consumer products that was launched about thirty years disfmarker that was a disposable consumer product user interface vocalsound that i didnt know vocalsound industrial designer and uh people disfmarker the market hadnt really vocalsound gotten on to the concept that you could use something and then throw it awaycause it wasnt uh disfmarker user interface mmhmm industrial designer but then when they relaunched them thirty years later they were virtually the same design project manager gap industrial designer but people had gotten the throwaway you know paper cups and napki y all kinds of things that they hadnt um disfmarker so youre right timing is very important user interface yeah project manager yeah industrial designer but i think weve got a good product project manager thats the reason ed is here user interface yeah project manager i think he can promote the the brand value and the product value industrial designer thats right its gonna be very important to the company vocalsound project manager yes we are behind the scene and he is the front screen so user interface yep project manager hes on the big screen marketing yeah im the one who takes the heat user interface vocalsound exactly vocalsound industrial designer vocalsound good luck ed marketing vocalsound if its a flop its the marketer vocalsound industrial designer vocalsound you look very relaxed considering h you know the uh the weight on your shoulders yeah marketing vocalsound yes yes stress vocalsound user interface vocalsound project manager okay so then uh lets come to the closing and uh are the costs within the budget marketing celebration vocalsound project manager and uh is the product evaluated okay so that will uh come soon okay for uh disfmarker but our time being so thanks for all your efforts and great work and uh great design and uh lets leave it to the ed for later for once production is over and the meantime lets celebrate so lets meet up uh this evening to hang up for some party industrial designer vocalsound user interface vocalsound marketing vocalsound industrial designer sounds good project managers good industrial designer thank you user interface okay marketing vocalsound very good industrial designer nice working with you marketing thank you very much project manager thank you thank you again for all user interface thanks industrial designer vocalsound user interface vocalsound gap vocalsound project manager and see you in the evening for drinks marketing vocalsound vocalsound byebye yep okay see you later on vocalsound user interface bye', 'clean_output': 'user interface suggested that the prototype of the remote control would have an ergonomic shape be made out of wood and the colour would be customisable user interface also introduced the general layout of the white board under the flip the big yellow button would be charged for turning the tv on and off the red triangle one would be used to change the volume while the green one controlled the channel changing there would be a dark blue numeric pad at the bottom and an lcd screen on the flip panel the prototype would have a customised backing and front'}\n"
     ]
    }
   ],
   "source": [
    "print(test_dataset[0])"
   ]
  },
  {
   "cell_type": "code",
   "execution_count": 9,
   "id": "375d0f30-ddbb-49d3-bf56-52339674dd5a",
   "metadata": {},
   "outputs": [
    {
     "name": "stdout",
     "output_type": "stream",
     "text": [
      "Generating predictions...\n"
     ]
    },
    {
     "data": {
      "application/vnd.jupyter.widget-view+json": {
       "model_id": "c96b642f589e4cc3924e0d77ba059851",
       "version_major": 2,
       "version_minor": 0
      },
      "text/plain": [
       "Map:   0%|          | 0/100 [00:00<?, ? examples/s]"
      ]
     },
     "metadata": {},
     "output_type": "display_data"
    },
    {
     "data": {
      "application/vnd.jupyter.widget-view+json": {
       "model_id": "a75b07076bd64eb6b0448c68af194ace",
       "version_major": 2,
       "version_minor": 0
      },
      "text/plain": [
       "Downloading builder script:   0%|          | 0.00/6.27k [00:00<?, ?B/s]"
      ]
     },
     "metadata": {},
     "output_type": "display_data"
    },
    {
     "name": "stdout",
     "output_type": "stream",
     "text": [
      "Post-processing text for evaluation...\n",
      "Calculating ROUGE scores...\n",
      "Calculating BERTScore...\n"
     ]
    },
    {
     "data": {
      "application/vnd.jupyter.widget-view+json": {
       "model_id": "792660b4777f462a84493acd0944ce08",
       "version_major": 2,
       "version_minor": 0
      },
      "text/plain": [
       "tokenizer_config.json:   0%|          | 0.00/25.0 [00:00<?, ?B/s]"
      ]
     },
     "metadata": {},
     "output_type": "display_data"
    },
    {
     "data": {
      "application/vnd.jupyter.widget-view+json": {
       "model_id": "8e04522764f94750a3c7a08de32adfc1",
       "version_major": 2,
       "version_minor": 0
      },
      "text/plain": [
       "config.json:   0%|          | 0.00/482 [00:00<?, ?B/s]"
      ]
     },
     "metadata": {},
     "output_type": "display_data"
    },
    {
     "data": {
      "application/vnd.jupyter.widget-view+json": {
       "model_id": "232b2c32a19748cfb7320fe0cb33207e",
       "version_major": 2,
       "version_minor": 0
      },
      "text/plain": [
       "vocab.json:   0%|          | 0.00/899k [00:00<?, ?B/s]"
      ]
     },
     "metadata": {},
     "output_type": "display_data"
    },
    {
     "data": {
      "application/vnd.jupyter.widget-view+json": {
       "model_id": "e7b63937f9094e87b6d970a1b2d1c39f",
       "version_major": 2,
       "version_minor": 0
      },
      "text/plain": [
       "merges.txt:   0%|          | 0.00/456k [00:00<?, ?B/s]"
      ]
     },
     "metadata": {},
     "output_type": "display_data"
    },
    {
     "data": {
      "application/vnd.jupyter.widget-view+json": {
       "model_id": "f7c8ed8e2c4840c3ac1495dff2e0aa5e",
       "version_major": 2,
       "version_minor": 0
      },
      "text/plain": [
       "tokenizer.json:   0%|          | 0.00/1.36M [00:00<?, ?B/s]"
      ]
     },
     "metadata": {},
     "output_type": "display_data"
    },
    {
     "data": {
      "application/vnd.jupyter.widget-view+json": {
       "model_id": "e7e1996bc8ff4df7835e5650d121f3f6",
       "version_major": 2,
       "version_minor": 0
      },
      "text/plain": [
       "model.safetensors:   0%|          | 0.00/1.42G [00:00<?, ?B/s]"
      ]
     },
     "metadata": {},
     "output_type": "display_data"
    },
    {
     "name": "stderr",
     "output_type": "stream",
     "text": [
      "Some weights of RobertaModel were not initialized from the model checkpoint at roberta-large and are newly initialized: ['roberta.pooler.dense.bias', 'roberta.pooler.dense.weight']\n",
      "You should probably TRAIN this model on a down-stream task to be able to use it for predictions and inference.\n"
     ]
    }
   ],
   "source": [
    "# Map the generation function over the test set (batched for efficiency)\n",
    "print(\"Generating predictions...\")\n",
    "results_t5 = test_dataset.map(generate_answer_T5, batched=True, batch_size=2)  # Smaller batch size for T5\n",
    "\n",
    "# Load ROUGE metric\n",
    "rouge = evaluate.load(\"rouge\")\n",
    "\n",
    "# Compute ROUGE scores\n",
    "def postprocess_text(preds, refs):\n",
    "    # rougeLSum expects newline after each sentence\n",
    "    preds = [\"\\n\".join(sent_tokenize(pred.strip())) for pred in preds]\n",
    "    refs = [\"\\n\".join(sent_tokenize(ref.strip())) for ref in refs]\n",
    "    return preds, refs\n",
    "\n",
    "# Post-process predictions and references\n",
    "print(\"Post-processing text for evaluation...\")\n",
    "processed_preds, processed_refs = postprocess_text(\n",
    "    results_t5[\"predicted_output\"],\n",
    "    results_t5[\"clean_output\"]\n",
    ")\n",
    "\n",
    "# Calculate ROUGE scores\n",
    "print(\"Calculating ROUGE scores...\")\n",
    "rouge_scores = rouge.compute(\n",
    "    predictions=processed_preds,\n",
    "    references=processed_refs,\n",
    "    use_stemmer=True,\n",
    "    rouge_types=[\"rouge1\", \"rouge2\", \"rougeL\"]\n",
    ")\n",
    "\n",
    "# Calculate BERTScore\n",
    "print(\"Calculating BERTScore...\")\n",
    "# If the dataset is large, you might want to limit the number of examples for BERTScore\n",
    "# as it can be computationally intensive\n",
    "max_samples_for_bertscore = 100\n",
    "if len(processed_preds) > max_samples_for_bertscore:\n",
    "    print(f\"Limiting BERTScore calculation to {max_samples_for_bertscore} samples.\")\n",
    "    indices = np.random.choice(len(processed_preds), max_samples_for_bertscore, replace=False)\n",
    "    bertscore_preds = [processed_preds[i] for i in indices]\n",
    "    bertscore_refs = [processed_refs[i] for i in indices]\n",
    "else:\n",
    "    bertscore_preds = processed_preds\n",
    "    bertscore_refs = processed_refs\n",
    "\n",
    "P, R, F1 = bert_score(bertscore_preds, bertscore_refs, lang='en', rescale_with_baseline=False)\n",
    "bert_f1 = torch.mean(F1).item()"
   ]
  },
  {
   "cell_type": "code",
   "execution_count": 10,
   "id": "f55bf1da-b2a4-43bf-979d-b35cd1f84046",
   "metadata": {},
   "outputs": [
    {
     "name": "stdout",
     "output_type": "stream",
     "text": [
      "\n",
      "===== T5 Evaluation Results =====\n",
      "ROUGE Scores:\n",
      "rouge1: 0.3113\n",
      "rouge2: 0.0842\n",
      "rougeL: 0.2027\n",
      "\n",
      "BERTScore F1: 0.8500\n"
     ]
    }
   ],
   "source": [
    "# Print all scores\n",
    "print(\"\\n===== T5 Evaluation Results =====\")\n",
    "print(\"ROUGE Scores:\")\n",
    "for metric, scores in rouge_scores.items():\n",
    "    print(f\"{metric}: {scores:.4f}\")\n",
    "\n",
    "print(f\"\\nBERTScore F1: {bert_f1:.4f}\")\n",
    "\n",
    "# Save the predictions and scores to a CSV file\n",
    "import pandas as pd\n",
    "results_df = pd.DataFrame({\n",
    "    \"input\": results_t5[\"clean_input\"],\n",
    "    \"reference\": results_t5[\"clean_output\"],\n",
    "    \"prediction\": results_t5[\"predicted_output\"]\n",
    "})\n",
    "\n",
    "# Add metrics to filename for easy reference\n",
    "metrics_summary = f\"R1_{rouge_scores['rouge1']:.3f}_R2_{rouge_scores['rouge2']:.3f}_RL_{rouge_scores['rougeL']:.3f}_BS_{bert_f1:.3f}\"\n",
    "\n",
    "output_file = f\"t5_predictions_{metrics_summary}.csv\"\n",
    "# results_df.to_csv(output_file, index=False)"
   ]
  },
  {
   "cell_type": "code",
   "execution_count": 11,
   "id": "e28f36a2-c023-40c7-91ac-d3edd6dbad63",
   "metadata": {},
   "outputs": [
    {
     "data": {
      "text/plain": [
       "'summarize the whole meeting project manager vocalsound marketing vocalsound project manager okay good afternoon again user interface vocalsound project manager so we should have our final meeting about the detail designed of disfmarker detail design of the product of the remote control um vocalsound so here is the agenda for today uh uh just going to go quickly through the minutes of the last last uh meeting then we have a p presentation of prototype of you two sounds interesting and well have um vocalsound presentation of evaluation crit criteria by ou our marketing experts then well have to go through finance evaluation of the of the cost of the thing and um hopefully uh we should fit the target o tw of twelve point five uh uh euro vocalsound okay so lets go uh if i go quickly through the minutes of the last meeting vocalsound so we went through th uh w we took this following decisions no lcd no speech recognition technology okay we went through a b to a banana look and feel for the remote control we went through the use of wheels and but buttons vocalsound and also the use of a basis station for battery ch charging and uh also to um call the to call the mot mote remote control when it is lost okay um good so guys let gap this uh wonderful thing industrial designer okay so we can go to the slides project manager vocalsound oh yeah sorry um industrial designer yeah number three oh number two sorry project manager which is gap disfmarker industrial designer so final design final design okay so michael you can go ahead user interface yeah so uh following our decision to uh make a yellow disfmarker well to make a banana project manager yeah can you show it to the the camera maybe user interface remote disfmarker okay so we actually have a disfmarker industrial designer you can pull it out first maybe user interface weve disfmarker well first first of all we made a an attractive vocalsound base station uh with a banana leaf uh look and feel um and uh project manager mmhmm vocalsound user interface bana sit disfmarker the banana sits in there k you know nicely weighted so that its not gonna tip over and um this is the remote itself its kind of its its ergonomic it fits in the hand uh rather well weve got the two uh vocalsound uh scroll wheels here which you know one on the the left for the uh volume and the one on the right for for the channel and uh underneath vocalsound we have the uh the turbo button which is in like a nice uh trigger position for you know for pressing quite naturally project manager whats the use uh of the t turbo button already user interface this is when you when you uh are scrolling the uh disfmarker through the channels you can tell it to to skip th past channels that you disfmarker quickly rather th project manager ah yeah yeah an then you stop when you stop it stops user interface yeah well when you stop scrolling the wheel it stops but normally with uh disfmarker it will just uh s stay on each station briefly so you can see the the picture industrial designer uh disfmarker project manager uhhuh industrial designer and we we do have one more functionality if you take the banana as such and uh you press the turbo button so it switch ons the switch ons the tv user interface the tv yeah project manager which one user interface the s the turbo button industrial designer the turbo button project manager okay user interface so rather than having uh an extra button for um for the on off switch you just use the turbo button industrial designer additional button marketing what this button for user interface this is a teletext button so once you press that then you get teletext marketing okay user interface and you can use the the channel selector scroll wheel as uh disfmarker project manager to navigate it through th through teletext user interface to navigate yeah marketing but if you want to go to page seven hundred industrial designer thats right thats right user interface yeah project manager gap with the wheel its easy marketing how man user interface well then you can you you have like a little uh number selection thing you press the gap the the teletext button uh to move between uh the fields and then you can just scroll the number back and forth so you have s you go disfmarker you scroll to seven and then zero zero and then you can uh disfmarker marketing i dont understand it can you repeat it vocalsound user interface vocalsound well you can you can press press the teletext button industrial designer vocalsound user interface and then you then you can you can f industrial designer so then then both the scroll buttons they are for teletext browsing marketing yeah industrial designer and you can tele marketing ah okay okay okay okay okay industrial designer yeah user interface mm uh disfmarker industrial designer once you press the teletext button then the scroll buttons they are more for teletext they are no more for channel or vol volume marketing okay i see i see okay okay industrial designer yeah user interface vocalsound and this is the uh the infrared uh port industrial designer thats right user interface also the top of the banana project manager excellent user interface so and then we have industrial designer yeah user interface in the uh in the base station we have the the button at the front for uh for calling the uh the banana project manager calling excellent industrial designer yeah project manager and the the leaves plays the roles of of antennas user interface actually they do project manager oh user interface thats thats yeah thats uh thats form and function in the one in the one uh object industrial designer yeah so it always means whatever the rays goes by they they get reflected and then you are having a better coverage user interface vocalsound industrial designer its like antennas user interface yeah so marketing gap user interface but yeah thats um thats just like disfmarker thats an attractive um base station project manager great vocalsound user interface vocalsound so project manager so what else user interface okay industrial designer and for the power source we are having solar cells and rechargeable batteries and this and uh the basis station is going to have the input from the mm power line for for charging the batteries marketing vocalsound is it really weight is it light or disfmarker industrial designer it is very light project manager yeah theyre light user interface its its uh its about the weight of a banana marketing okay project manager vocalsound marketing okay user interface you know to give you the correct look and feel project manager gap industrial designer yeah marketing ok industrial designer and we have put these different colours so that people dont mistake them mistake it as a banana user interface vocalsound industrial designer otherwise its you know a child comes and so disfmarker marketing okay yeah yeah yeah i see i under i understand user interface i think a child would try to eat it anyway so maybe we should industrial designer yeah user interface consider that gap maybe health and safety aspects project manager ah yeah industrial designer mmhmm user interface gap industrial designer oh we didnt think of that yet yeah user interface yeah project manager so for the power source apparently you still disfmarker you you want to use both solar cells and batteries industrial designer oh yeah thats right project manager uh you mean disfmarker okay so disfmarker user interface i dont really know if the solar cells are actually necessary any more if you have a recharging base station project manager yeah where are going to disfmarker where are you are you going to place them industrial designer mmhmm mmhmm itll itll be always at top somewhere at there user interface if i was gonna place them id put them on the on the top here since thats like uh the black bit project manager you have enough surface you gap disfmarker user interface but yeah i dont i really dont think its necessary to have the solar cells anymore industrial designer yeah because now we are having rechargeable batteries project manager okay user interface mm industrial designer so that that is gap project manager what will be the autonomy roughly user interface the what sorry project manager the autonomy autonomy user interface what do you mean project manager uh i mean how long does i how how how long can it be held off a station marketing how long the disfmarker how long the bit the batteries long user interface ah ah a long time project manager yeah a long disfmarker vocalsound user interface vocalsound no no no industrial designer eight to ten eight to ten hours marketing vocalsound user interface it can disfmarker it should be weeks industrial designer n most disfmarker no most of the time its not being used project manager yeah so its disfmarker user interface yeah but y people dont like to put it back in the base station all the time people leave wanna leave it on the couch so disfmarker industrial designer so when when you are making it on disfmarker project manager its used only when you disfmarker industrial designer mm mmhmm no eight or eight or ten hours of working user interface ah okay industrial designer if you are just leaving like that itll be much longer user interface okay project manager yeah f weeks user interface yeah industrial designer yeah thats right project manager right next slide industrial designer yeah and we are having the speakers regular chip for control pricing is disfmarker was a factor so thats why we have gone for a regular chip only not the advanced chip and uh thats it project manager okay gap okay those really sounds very good industrial designer thats right project manager vocalsound nothing else to add user interface it seems to be falling over marketing i l yeah project manager yeah marketing i like i like it maybe the the thing that convince me the less is the vocalsound the multifunctional buttons looks a bit disfmarker industrial designer you want to have more functional buttons marketing looks a bit puzzled uh i dunno how to say vocalsound that industrial designer you are not convinced marketing you disfmarker the the b the buttons change h h their function depending if y its teletext or not disfmarker industrial designer not not many we we want to keep it simple so that this button fo is for teletext which is usually also the case that usually there is a teletext button and once you press that the channel buttons they baco become the scrolling buttons marketing and the volume button will will become disfmarker industrial designer its up to you means project manager well in fact b both will be disfmarker could be useful navigating through teletext industrial designer now that disfmarker means lets say this this can move the the larger digits and this can move the smaller digits user interface or can move between positions in the in the number industrial designer thats right project manager yeah marketing and what about people who want to use digits butto real buttons project manager wow industrial designer yeah so there was there was a constraint that the surface area which we have on this banana on one side because of the shape marketing vocalsound industrial designer so we are targeting a segment which is which is just very trendy kind of thing they they dont care about the buttons any more and anyway disfmarker marketing okay because have you thought about configuration and all this kind of uh stuff user interface its all automatic marketing its all automatic user interface yep project manager vocalsound user interface vocalsound industrial designer vocalsound marketing vocalsound okay vocalsound okay yeah its fine project manager very good uh yeah disfmarker marketing w we are living in a wonderful world vocalsound project manager vocalsound you th yeah user interface uh vocalsound industrial designer vocalsound project manager vocalsound bananas everywhere industrial designer vocalsound project manager okay so disfmarker vocalsound marketing automatically configure gap vocalsound project manager vocalsound marketing vocalsound project manager so we have to go through now evaluations industrial designer evalua yeah marketing yeah project manager vocalsound so your slides are ready marketing s project manager uh youre four i think marketing yeah project manager so this is one which one is this one marketing yeah project manager vocalsound vocalsound marketing okay i vocalsound i const i constructed a a list of criteria based on the on the general user requirements and each criteria is vocalsound will be evaluated its uh logical criteria so we must users must say i if its true or is disfmarker or if its false in a in a scale ranging from zero to seven industrial designer why this strange factor of seven marketing because i im sorry sorry industrial designer usually i have seen that scales are from one to ten marketing ah yeah its from disfmarker sorry its from one to seven its from from one to seven sorry because it should be an even it should be an even uh scale industrial designer okay project manager num number disfmarker industrial designer okay mmhmm marketing and five is too short and nine is too long industrial designer okay marketing vocalsound im a i im disfmarker industrial designer okay fine got the idea project manager so to have disfmarker in order to have enough granularity disfmarker marketing sorry project manager its in order to have enough granularity in the evaluation marketing yeah yeah industrial designer okay marketing the variance is mi its is minimal project manager okay industrial designer okay okay great marketing im um answering your question industrial designer okay yeah yeah marketing okay industrial designer go ahead marketing vocalsound and thats the criteria i i found more useful i think i sh i vocalsound i could write the criteria in the on the whiteboard industrial designer mmhmm sure marketing and we all four could range industrial designer okay yeah yeah yeah marketing could evaluate the disfmarker project manager okay marketing gap industrial designer so you can say fancy handy handy marketing okay lets lets evaluate if its fancy or disfmarker industrial designer yeah its fancy according to me marketing seven but disfmarker vocalsound user interface vocalsound project manager yeah six industrial designer vocalsound project manager s seven industrial designer seven seven by me project manager six marketing i would say seven industrial designer okay marketing its quite fancy industrial designer so you can add seven plus six plus seven plus disfmarker user interface vocalsound project manager no wait user interface yeah uh five project manager what do you say seven five industrial designer five user interface five maybe maybe maybe six its its i guess its disfmarker project manager okay six point five user interface yeah project manager handy user interface vocalsound industrial designer again ill give seven project manager seven user interface id give it a six like id i think its probably more handy than my current remotecause of the scroll wheels marketing six industrial designer yep user interface but maybe loses the point for not having you know the extra buttons when you reall if you do need them for some reason but you know you can always use your other remote project manager so seven seven industrial designer seven for me project manager six user interface yeah marketing six project manager six point five functional vocalsound vocalsound user interface vocalsound industrial designer ill give five project manager four marketing i would say disfmarker vocalsound project manager vocalsound industrial designer gap user interface well it depends when you say functional do you mean it does what we want it to do or d does what it does you know can it make you coffee marketing everything ar project manager vocalsound uh for a remote control does he have all the gap user interface you know marketing mm everything disfmarker user interface vocalsound yeah yeah gap project manager you could expect marketing its compared to the all industrial designer thats right marketing remote controls user interface thats before disfmarker industrial designer thats right the standards what is available in the market off the shelf user interface yeah i have to say four marketing actually i dont know what are the r the real specification of a of a universal remote contro user interface well its not a universal remote remember were focus were supposed to focus just on tvs industrial designer vocalsound we disfmarker marketing ah its not an univer but its for all kind of tvs project manager yeah user interface well all tvs but only t disfmarker only tvs i guess project manager vocalsound so its universal but for tvs vocalsound so s uh four marketing yeah industrial designer five project manager five user interface four project manager four marketing four four industrial designer so four point two user interface just four project manager four industrial designer gap four vocalsound user interface vocalsound obviously there are some outliers so disfmarker marketing so four project manager vocalsound vocalsound okay cool cool device industrial designer vocalsound marketing vocalsound industrial designer there ill give it seven project manager vocalsound marketing it means cool features like new features actually industrial designer thats right user interface vocalsound which disfmarker industrial designer for a tv the most important feature which i felt was the locator which is a cool feature and then the scroll buttons are again cool features we dont have lcd for it but that we decided we dont want to have project manager yeah seven marketing i would say five user interface ill say five project manager six industrial designer mmhmm seven project manager plus six i say disfmarker i said seven user interface yeah project manager so its six user interface s yeah marketing you said seven vocalsound project manager yeah user interfacecause its five five seven seven so disfmarker industrial designer okay user interface uh okay definitely easy to use industrial designer definitely seven user interface seven project manager seven seven and you outl you are not lik outlier marketing five vocalsound user interface vocalsound project manager seven vocalsound industrial designer vocalsound project manager vocalsound okay okay okay okay industrial designer vocalsound okay marketing sorry i have them disfmarker user interface alright now heres the sixty million dollar question project manager vocalsound user interface well twenty five twenty five euro question project manager of course ill buy the gap banana gap user interface what do you what do you guys reckon marketing vocalsound of cour of course the most difficult question for the end vocalsound project manager well disfmarker industrial designer ill say five user interface hmm industrial designer ill say five project manager twenty five euros vocalsound cheap industrial designer vocalsound marketing i find it quite cheap vocalsound actually user interface vocalsound marketing i dunno if i i it depends if you live in in switzerland or you live in disfmarker project manager yeah so the target price is for all europe or only for rich countries vocalsound its more targeting uk or disfmarker marketing i dont know wha the initial specifications were for the whole all europe or disfmarker user interface vocalsound uh disfmarker project manager so this is selling costs not production costs user interface yeah yeah marketing yeah this is the the initial specifications project manager yeah yeah sure um disfmarker five marketing i would say six its quite cheap actually user interface id say two project manager vocalsound aw should be nice in your disfmarker industrial designer why user interface vocalsound i dont want a banana on my vocalsound living room table a banana remote marketing gap industrial designer vocalsound no but its really handy actually if you see user interface it is handy its handy but it its terrible industrial designer its its so handy and then disfmarker project manager vocalsound its kitsch industrial designer anyb anybody who comes here vocalsound disfmarker anybody who comes to your home hell at least ask once what is this user interface vocalsound yeah yeah but its not a positive thing industrial designer its a very positive thing if you see like that vocalsound user interface well you know its its handy its ergonomic but its a banana project manager well dont forget well dont for dont forget who were targeting also who are f f who are wh industrial designer youngsters project manager yeah youngst youngst user interface yeah but it says i i would buy this so marketing actually maybe disfmarker project manager no disfmarker well disfmarker yeah disfmarker i disfmarker if you would be young marketing yeah disfmarker project manager not telling that you are young li li like a teenager for instance user interface vocalsound no its i i would buy disfmarker industrial designer vocalsound project manager okay youre youre crazy teenager and you like fun things industrial designer you want to flaunt project manager yeah user interface vocalsound industrial designer you disfmarker with your girlfriend or something project manager yeah you want to show the beautiful banana you have gap user interface s s industrial designer or might be it does some other kind of thing but disfmarker user interface still i id say two i dont think i disfmarker at any stage in my life i would want a banana remote control really industrial designer uh yeah crazy project manager okay so you s you give disfmarker user interface i can say maybe there is a market for it i dunno project manager oh yeah yeah i know i know industrial designer vocalsound project manager so you say two user interface vocalsound yeah industrial designer i say five project manager f i d i say five you say marketing i change the question vocalsound project manager vocalsound so whats the new question industrial designer and you have saved it marketing so yeah upload the disfmarker industrial designer youll have to reload project manager uh yeah i think so vocalsound user interface okay so it depends if uh disfmarker marketing yeah its two different situations if you really need an universal remote control or if you would change your remote control for a n for a new one project manager yeah thats two different question user interface if i had t if i had to spend twenty five euro if that was like my limit maybe i would buy it because the other twenty five euro remote controls are probably gonna look project manager ugly user interface worse than a banana vocalsound industrial designer theyre not going to be as disfmarker and they they might not be a as easy as this disfmarker marketing vocalsound user interface and it disfmarker yeah this is gonna f you know handy to use industrial designer yeah yeah marketing so what now what range project manager i stick to five industrial designer s user interface although it still has it still has the word of course at the beginning vocalsound industrial designer i go slightly up six marketing six user interface so i dunno um project manager w we have six five disfmarker user interface vocalsound id give it id give it a project manager three vocalsound user interface i give it a four now industrial designer vocalsound marketing vocalsound six six project manager so we are six five four disfmarker industrial designer six five four marketing six so its uh five point five or less project manager yeah so disfmarker industrial designer okay project manager so and last question will i change my rem change my remote control from mando banana um zero no uh we cant vocalsound marketing vocalsound project manager so one user interface vocalsound marketing actually yeah i disfmarker we disfmarker project manager well if gap user interface vocalsound yeah project manager no uh lets say ill put two user interface id say three i mean my remote control is kinda disfmarker at home is pretty terrible if it was disfmarker change my remote control of my dvd player for a mando banana then i would be more inclined to project manager its for the tv user interface but uh disfmarkercause its really bad but uh vocalsound marketing vocalsound user interface id say a three gap industrial designer ill still give it five yeah marketing five project manager two three five two three fi and two marketing gap you are romantic really industrial designer vocalsound so its somewhere three point five i think marketing vocalsound i would say two project manager so its r yeah three point five vocalsound marketing who is the outlier user interface vocalsound marketing wh wh vocalsound you said five project manager vocalsound no no you say five he is the outlier industrial designer no i said five project manager okay just just do a sum marketing i dont know if vocalsound its a disfmarker user interface its not very promising but you know were not young trendsetters vocalsound marketing no because there are more disfmarker yeah we shouldnt sum like that project manager well maybe we should we should uh have a look globally glob marketing because the the last two questions is much more important than the rest actually industrial designer mmhmm marketing otherwise we wouldnt disfmarker we will not sell user interface is there some some formula youre using that says you have to sum them up marketing uh no i didnt gap anything vocalsound vocalsound user interface well just leave it at that then project manager yeah industrial designer oops project manager so maybe maybe w we can we should stick to general feeling we can had uh have a disfmarker out of these numbers which which is that well we should go for it marketing yeah the uh disfmarker yeah project manager vocalsound problem with connectors vocalsound marketing do you want me to sum user interface no industrial designer vocalsound yeah its its funny vocalsound marketing o i think its not disfmarker user interface i think it it kind of you just lose information if you sum it so project manager okay so lets move uh lets move on industrial designer yeah sure project manager vocalsound okay gap now now we have to mm to estimate vocalsound uh the cost okay so i prepare an excel sh uh an excel sheet um well we are going to calculate the production costs we should we should be below twelve point five so i already uh put some pu some numbers here okay we are going to go through vocalsound disfmarker so this is the number the mm number of components we need for this thing so it appears that there were things that we didnt thought about uh and also things that i uh i d i forget to uh to put like solar cells user interface well we decided against the solar cells so disfmarker industrial designer mmhmm project manager oh yeah finally we say no industrial designer solar cells yeah yeah yeah yeah yeah we said no to that project manager okay so lets lets go lets go let go through all the lines so hand dynamo this something we didnt thought about but disfmarker user interface you mean charging it by shaking the banana project manager yeah industrial designer i think rechargeable batteries will take care of the power thing project manager yeah industrial designer yeah project manager okay so we we stick to battery one industrial designer to bring the cost disfmarker yeah project manager no kinetic also i dont i dont see the difference between kinetic and dynamo user interface well maybe dynamo is like you have to actually disfmarker project manager ah you have to disfmarker ah okay i see so kinetic is really uh shaking the banana user interface vocalsound marketing s user interface yeah industrial designer yeah project manager vocalsound crazy okay so those banana is falling lets go ahead so we we st only have one for battery uh then for electronics um so i didnt put anything for the gap industrial designer so we have the regular chip on the print which is one project manager yeah yeah industrial designer and thats it project manager okay no disfmarker so we hin industrial designer and we have sample speaker project manager yeah so one industrial designer yeah yeah gap the cost of that is very high project manager ooh ye ye ye the cost is increasing so we are disfmarker user interface well actually that that disfmarker no that sample speaker is not disfmarker we were not using that were just using the the very beep disfmarker simple beep project manager the beep user interface that s that sample thing is like the voice recording and everything industrial designer uhhuh project manager thats what disfmarker industrial designer mmhmm mmhmm project manager okay so ill remove it user interface so disfmarker yeah project manager s user interface i say that disfmarker yeah project manager so dont we need a disfmarker industrial designer and we have sev project manager oh there is no listing for r radio frequency thing user interface vocalsound industrial designer yeah project manager so disfmarker industrial designer so we well put some extras if there is something project manager yeah maybe well see later user interface mm project manager okay so in disfmarker for the case um vocalsound i put single curved industrial designer okay to reduce the cost its okay user interface vocalsound well wait a second project manager because we have two things user interface no its its double curved its got a c its uh disfmarker industrial designer oh its got all the directions project manager no industrial designer so dont worry vocalsound user interface well d yeah its monotonic vocalsound but marketing vocalsound industrial designer its got a gap direction vocalsound user interface its got disfmarker but if you hold it if you hold it that way thats two curved one on this side one on that side but theyre opposite sides project manager well what a disfmarker what i if i put one here user interface this is actually disfmarker i mean this probably marketing actually whats the differen user interface this probably actually costs more than three project manager yeah so lets put one here in the gap then instead of single user interface if you disfmarker industrial designer okay okay project manager oka all right user interface yeah project manager so we stick to plastic it cost nothing industrial designer yeah thats right user interface well gap disfmarker no didnt we say we wanted to do a rubber disfmarker project manager no its too disfmarker no user interface gap if you drop it marketing vocalsound too expensive project manager its too expensive were already at eleven user interface well when disfmarker okay well we well come back well come back and see if we can fit it in project manager okay so i put rubber one okay so special colour yellow user interface yeah project manager uh for the interface we have disfmarker industrial designer we dont have any push buttons user interface no we have two push buttons project manager we have three industrial designer no that is a scroll wheel itself itll be put in that user interface huh project manager no no we have two scroll and we have three push buttons industrial designer ah okay okay user interface uh industrial designer okay okay project manager vocalsound and disfmarker user interface okay its gonna have to be plastic marketing actually whe whe when you wrote regular chip you should put two because there is another chip here project manager no its gap no chip this is just radio frequency gap th this is no chip industrial designer yeah marketing yeah but industrial designer no theres no chip there marketing you need disfmarker industrial designer it just emits the signal project manager its just disfmarker industrial designer and the receiver accepts it and thats it project manager yeah marketing fo i it does nothing actually project manager no just disfmarker only gap industrial designer just se sends the signal thats it user interface its a recharger thing and uh disfmarker project manager okay w we didnt think a thought about uh integrated scroll wheel push buttons user interface well i actually did um think about it myself vocalsound but i thought you know disfmarker because you could potentially you know you could be pushing it down as you scroll it for a disfmarker instead of a turbo button project manager yeah user interface but you know the turbo button does add that extra class project manager so disfmarker yeah user interface you know so i mean if were if were over budget then maybe we could we could rethink that project manager okay so no lcd so for disfmarker we have no button supplements right industrial designer yep no project manager uh vocalsound well in fact could we could not we consider this button as a button supplement because disfmarker oh no these are these are for colours co and special forms special colours and special materials user interface yeah no were not disfmarker project manager so disfmarker user interface we dont need anything special for the buttons project manager okay so we are over budget industrial designer yeah so first thing which we should take care of is user interface make it plastic instead of rubber industrial designer instead of rubber let it be plastic project manager yeah user interface and then were basically o on budget except for you know ten cents industrial designer and uh that much money will be required for the base station which is not there project manager yeah user interface vocalsound yeah project manager so mayb in fact n we have to put two here marketing gap project manager because it cost nothing user interface vocalsound yeah well pl the base station is made out of m many units of vocalsound plastic industrial designer vocalsound yeah marketing vocalsound industrial designer thats right project manager vocalsound industrial designer so might be ninety centimes for the the remaining things which disfmarker the cord and everything whichll go disfmarker project manager exactly exactly so we have margin for that stuff user interface does that include charging circuitry and everything vocalsound industrial designer thats right project manager yeah maybe okay good wha industrial designer yeah project manager excellent user interface so what do we do with the extra profits project manager vocalsound um well invest in r and d user interface okay marketing vocalsound user interface vocalsound the next fruit project manager yeah so well were under the the the cost so we can go to disfmarker through to project evaluation vocalsound marketing okay so now we have a product which nobody would would buy would disfmarker yeah would buy project manager sorry user interface no we have a product which none of us would buy vocalsound marketing yeah because th th the evaluation project disfmarker project manager vocalsound which is different which is different none of us will buy it user interface no its people in in in milan and uh in paris that are gonna buy it marketing ah would buy yeah user interface were n marketing massively yeah user interface yeah were not in milan or paris industrial designer vocalsound marketing yeah okay uh you have been in milan a couple of times so project manager this is a battery vocalsound user interface actually there were a lot of disfmarker industrial designer vocalsound marketing vocalsound and you said the lowest gap user interface vocalsound project manager this is what we disfmarker which you can mm disfmarker industrial designer s detachable battery project manager it did disfmarker yeah user interface thatscause im sick of milan marketing yeah for the batteries disfmarker project manager extra battery yeah industrial designer vocalsound user interface vocalsound okay so um vocalsound project process project manager exac vocalsound well in fact i i did not know vocalsound i didnt know really what to say here marketing vocalsound user interface vocalsound industrial designer vocalsound project manager vocalsound if uh if you have any ideas of what we can we can say so i dont i dont i dont understand what what they mean by satisfaction um and for and for example user interface vocalsound project manager should it be more like um like a status of of the disfmarker these meetings in fact user interface gap yeah project manager yeah well in fact uh we we use a little bit the white board and the digital pen not that much user interface i dunno i think we had a fair bit of creativity project manager oh yeah its really creative user interface vocalsound and uh but i think one thing we m missed out of this whole process was a um vocalsound like a focus group with the actual people were targeting industrial designer vocalsound user interface we needed some of these kind of young trendsetters to come in and play with the banana and you know see if they project manager yeah industrial designer they like that user interface see if they like it project manager yeah maybe we should go through yeah an uh evaluation industrial designer mmhmm user interface because yeah the evaluation for us is is kind of pointless industrial designer biased project manager so maybe you should we should do a kinda evaluation vocalsound in the streets like asking to young peoples well do you like to have a banana as a remote control user interface yeah because it it would also be interesting to uh you to know find out if we have a market in really young children as well to see you know how to how to market this thing industrial designer mmhmm marketing vocalsound project manager yeah industrial designer mmhmm user interfacecause you know if disfmarker well i mean maybe you dont wanna give all your kids their own remote because theyll be changing the channel all the time but you know maybe in some households where there is you know a tv for each kid then you know banana remote control could be fun for them as well project manager mmhmm user interface might have to draw a face on it so but i think thats something we need to to work on next time is really finding out more about the target market project manager yep any any new ideas we could uh we could investigate next time dunno oranges industrial designer yeah the cost of the thing can be made more than might be because i think its just the optimal what we have done for the cost which we are looking forward to user interface vocalsound yeah i think there are ways we could maybe simplify the disfmarker industrial designer interface user interface well just the the the circuit board that were using inside marketing mmhmm user interface im not sure really how complicated our um industrial designer mmhmm user interface our needs are i mean all we have is two push buttons and two scrollers do we really need an integrated circuit to project manager hmm user interface you know to process that industrial designer mmhmm mmhmm mmhmm marketing so more general remote control instead of just focusing on uh on tv industrial designer thats right marketing the complexity shouldnt be much higher industrial designer yeah marketing for disfmarker you said if it good for dvd then i would disfmarker user interface and also fo you know for mood lighting and and stuff that would be rather cool i think thats actually something that should be in version two is the ability to you know to control things other than the tv industrial designer integrate user interface and not just electronic equipment but you know the whole environment of the room industrial designer mmhmm marketing gap project manager okay vocalsound very good vocalsound so disfmarker industrial designer so disfmarker what else project manager well done i think we we can go industrial designer okay home project manager home industrial designer vocalsound happily satisfied vocalsound marketing vocalsound project manager vocalsound yeah maybe maybe we can hassle the the production department to to make a a real prototype that we can use at home to to evaluate industrial designer mmhmm project manager gap okay so thanks very much user interface yep project manager bye user interface vocalsound okay industrial designer thank you user interface thank you marketing bye'"
      ]
     },
     "execution_count": 11,
     "metadata": {},
     "output_type": "execute_result"
    }
   ],
   "source": [
    "results_df.input[5]"
   ]
  },
  {
   "cell_type": "code",
   "execution_count": 12,
   "id": "f49c0aca-1232-42de-871f-9d176fb3edeb",
   "metadata": {},
   "outputs": [
    {
     "data": {
      "text/plain": [
       "'project manager started meeting on the detailed design of the remote control user interface and industrial designer gave a presentation on the prototype with a banana leaf base station and a handsized remote with two scroll wheels the turbo button the teletext button the calling button the rechargeablebatteries power source and the speaker regular chip next the group evaluated based on marketings list of user requirement criteria then groupmates discussed the cost estimation including the component production cost they agreed to use plastic instead of rubber material for the dual chips also they agreed not to use lcd and no button supplements to avoid over budget lastly the group discussed the project process the group agreed they had creativity while user interface suggested that they should find out more target markets besides project manager suggested doing a street survey also user interface suggested that they could simplify the interface and the circuit board'"
      ]
     },
     "execution_count": 12,
     "metadata": {},
     "output_type": "execute_result"
    }
   ],
   "source": [
    "results_df.reference[5]"
   ]
  },
  {
   "cell_type": "code",
   "execution_count": 13,
   "id": "640989bb-70ff-45bb-afbf-4318ac86f12e",
   "metadata": {},
   "outputs": [
    {
     "data": {
      "text/plain": [
       "'the meeting was about the detail design of the remote control user interface proposed to design a yellow banana with wheels and buttons the team decided to use lcd instead of speech recognition technology to make the product more attractive they also discussed the shape and shape of their product'"
      ]
     },
     "execution_count": 13,
     "metadata": {},
     "output_type": "execute_result"
    }
   ],
   "source": [
    "results_df.prediction[5]"
   ]
  },
  {
   "cell_type": "code",
   "execution_count": null,
   "id": "8f016c1d-5f13-4871-ab3f-4fdd696bc877",
   "metadata": {},
   "outputs": [],
   "source": []
  }
 ],
 "metadata": {
  "kernelspec": {
   "display_name": "Python 3 (ipykernel)",
   "language": "python",
   "name": "python3"
  },
  "language_info": {
   "codemirror_mode": {
    "name": "ipython",
    "version": 3
   },
   "file_extension": ".py",
   "mimetype": "text/x-python",
   "name": "python",
   "nbconvert_exporter": "python",
   "pygments_lexer": "ipython3",
   "version": "3.11.10"
  }
 },
 "nbformat": 4,
 "nbformat_minor": 5
}
