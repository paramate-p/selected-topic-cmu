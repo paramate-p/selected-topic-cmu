{
 "cells": [
  {
   "cell_type": "code",
   "execution_count": 5,
   "metadata": {},
   "outputs": [
    {
     "name": "stderr",
     "output_type": "stream",
     "text": [
      "[nltk_data] Downloading package punkt to\n",
      "[nltk_data]     /Users/paramatephuengtrakul/nltk_data...\n",
      "[nltk_data]   Package punkt is already up-to-date!\n",
      "[nltk_data] Downloading package punkt_tab to\n",
      "[nltk_data]     /Users/paramatephuengtrakul/nltk_data...\n",
      "[nltk_data]   Unzipping tokenizers/punkt_tab.zip.\n",
      "[nltk_data] Downloading package stopwords to\n",
      "[nltk_data]     /Users/paramatephuengtrakul/nltk_data...\n",
      "[nltk_data]   Package stopwords is already up-to-date!\n"
     ]
    }
   ],
   "source": [
    "import time\n",
    "import spacy\n",
    "from textblob import TextBlob\n",
    "import nltk\n",
    "import string\n",
    "import re\n",
    "import pandas as pd\n",
    "\n",
    "nltk.download('punkt')\n",
    "nltk.download('punkt_tab')\n",
    "nltk.download('stopwords')\n",
    "\n",
    "\n",
    "from nltk.tokenize import word_tokenize\n",
    "\n"
   ]
  },
  {
   "cell_type": "code",
   "execution_count": 6,
   "metadata": {},
   "outputs": [],
   "source": [
    "nlp = spacy.load(\"en_core_web_sm\")"
   ]
  },
  {
   "cell_type": "code",
   "execution_count": 7,
   "metadata": {},
   "outputs": [],
   "source": [
    "def clean_text(text, remove_punctuation: bool):\n",
    "\n",
    "    text = re.sub(r'[^\\x00-\\x7F]+', ' ', text) # Remove non-ASCII characters\n",
    "    \n",
    "    text = re.sub(r'\\s+', ' ', text) # replace multiple white space with sigle white space\n",
    "    \n",
    "    text = re.sub(r'[^\\w\\s.,!?]', '', text) # remove specific char, `¬`, or quotes around words\n",
    "\n",
    "    if remove_punctuation:\n",
    "        text = re.sub(r'[^\\w\\s]', '', text) # Remove all punctuation\n",
    "    \n",
    "    text = text.strip()\n",
    "    \n",
    "    text = text.lower() # convert to lower \n",
    "    \n",
    "    return text\n",
    "\n",
    "def tokenized_sentences_words(text):\n",
    "    \n",
    "    text = clean_text(text, remove_punctuation=False)\n",
    "\n",
    "    sentences = re.split(r'[.!?]', text)\n",
    "\n",
    "    # remove white space if the particular sentence has white space\n",
    "    sentences = [sentence.strip() for sentence in sentences if sentence.strip()]\n",
    "    \n",
    "    \n",
    "    tokenized_sentences = [sentence.split() for sentence in sentences] # split by white space\n",
    "    \n",
    "    return tokenized_sentences\n",
    "\n",
    "def count_word_frequency(text):\n",
    "\n",
    "    # tokenize\n",
    "    words = text.split(\" \")\n",
    "    \n",
    "    word_freq = {}\n",
    "    \n",
    "\n",
    "    for word in words:\n",
    "        if word in word_freq:\n",
    "            word_freq[word] += 1 \n",
    "        else:\n",
    "            word_freq[word] = 1 \n",
    "\n",
    "    return word_freq\n",
    "\n",
    "def get_top_k_words(text, k: int):\n",
    "\n",
    "    word_freq = count_word_frequency(text)\n",
    "    \n",
    "    df_top_k = pd.DataFrame(list(word_freq.items()), columns=['Word', 'Frequency'])\n",
    "\n",
    "    # sort by descending order\n",
    "    df_top_k_sorted = df_top_k.sort_values(by='Frequency', ascending=False).head(k)\n",
    "    \n",
    "    return df_top_k_sorted\n",
    "\n",
    "\n",
    "# tokenization across nltk, textblob and spacy\n",
    "def tokenize_nltk(text):\n",
    "    token_list= word_tokenize(text)\n",
    "    return token_list\n",
    "\n",
    "def tokenize_textblob(text):\n",
    "    blob = TextBlob(text)\n",
    "    token_list = blob.words\n",
    "    return token_list\n",
    "\n",
    "def tokenize_spacy(text):\n",
    "    doc = nlp(text)\n",
    "    token_list = [token.text for token in doc]\n",
    "    return token_list\n"
   ]
  },
  {
   "cell_type": "code",
   "execution_count": 8,
   "metadata": {},
   "outputs": [],
   "source": [
    "file_path = \"aliced29.txt\"\n",
    "with open(file_path, 'r') as file:\n",
    "    texts = file.read()\n",
    "\n",
    "# print(texts)"
   ]
  },
  {
   "cell_type": "markdown",
   "metadata": {},
   "source": [
    "## A cleaned version of text"
   ]
  },
  {
   "cell_type": "code",
   "execution_count": 9,
   "metadata": {},
   "outputs": [
    {
     "data": {
      "text/plain": [
       "'or longitude ive got to alice had no idea what latitude was or longitude either but thought they were nice grand words to say presently she began again i wonder if i shall fall right through the earth how funny itll seem to come out among the people that walk with their heads downward the antipathies i think she was rather glad there was no one listening this time as it didnt sound at all the right word but i shall have to ask them what the name of the country is you know please maam is this new zealand or australia and she tried to curtsey as she spokefancy curtseying as youre falling through the air do you think you could manage it and what an ignorant little girl shell think me for asking no itll never do to ask perhaps i shall see it written up somewhere down down down there was nothing else to do so alice soon began talking again dinahll miss me very much tonight i should think dinah was the cat i hope theyll remember her saucer of milk at teatime dinah my dear i wish you were'"
      ]
     },
     "execution_count": 9,
     "metadata": {},
     "output_type": "execute_result"
    }
   ],
   "source": [
    "cleaned_text = clean_text(texts, remove_punctuation=True)\n",
    "cleaned_text"
   ]
  },
  {
   "cell_type": "markdown",
   "metadata": {},
   "source": [
    "## List of tokenized sentences and words"
   ]
  },
  {
   "cell_type": "code",
   "execution_count": 10,
   "metadata": {},
   "outputs": [
    {
     "data": {
      "text/plain": [
       "[['or', 'longitude', 'ive', 'got', 'to'],\n",
       " ['alice',\n",
       "  'had',\n",
       "  'no',\n",
       "  'idea',\n",
       "  'what',\n",
       "  'latitude',\n",
       "  'was,',\n",
       "  'or',\n",
       "  'longitude',\n",
       "  'either,',\n",
       "  'but',\n",
       "  'thought',\n",
       "  'they',\n",
       "  'were',\n",
       "  'nice',\n",
       "  'grand',\n",
       "  'words',\n",
       "  'to',\n",
       "  'say']]"
      ]
     },
     "execution_count": 10,
     "metadata": {},
     "output_type": "execute_result"
    }
   ],
   "source": [
    "sentences_token = tokenized_sentences_words(texts)\n",
    "sentences_token[:2] # show first 2 elements result"
   ]
  },
  {
   "cell_type": "markdown",
   "metadata": {},
   "source": [
    "## A printed table of the top 10 most frequent words and their counts"
   ]
  },
  {
   "cell_type": "code",
   "execution_count": 11,
   "metadata": {},
   "outputs": [
    {
     "data": {
      "text/html": [
       "<div>\n",
       "<style scoped>\n",
       "    .dataframe tbody tr th:only-of-type {\n",
       "        vertical-align: middle;\n",
       "    }\n",
       "\n",
       "    .dataframe tbody tr th {\n",
       "        vertical-align: top;\n",
       "    }\n",
       "\n",
       "    .dataframe thead th {\n",
       "        text-align: right;\n",
       "    }\n",
       "</style>\n",
       "<table border=\"1\" class=\"dataframe\">\n",
       "  <thead>\n",
       "    <tr style=\"text-align: right;\">\n",
       "      <th></th>\n",
       "      <th>Word</th>\n",
       "      <th>Frequency</th>\n",
       "    </tr>\n",
       "  </thead>\n",
       "  <tbody>\n",
       "    <tr>\n",
       "      <th>25</th>\n",
       "      <td>i</td>\n",
       "      <td>8</td>\n",
       "    </tr>\n",
       "    <tr>\n",
       "      <th>32</th>\n",
       "      <td>the</td>\n",
       "      <td>8</td>\n",
       "    </tr>\n",
       "    <tr>\n",
       "      <th>4</th>\n",
       "      <td>to</td>\n",
       "      <td>7</td>\n",
       "    </tr>\n",
       "    <tr>\n",
       "      <th>11</th>\n",
       "      <td>was</td>\n",
       "      <td>5</td>\n",
       "    </tr>\n",
       "    <tr>\n",
       "      <th>71</th>\n",
       "      <td>you</td>\n",
       "      <td>4</td>\n",
       "    </tr>\n",
       "    <tr>\n",
       "      <th>22</th>\n",
       "      <td>she</td>\n",
       "      <td>4</td>\n",
       "    </tr>\n",
       "    <tr>\n",
       "      <th>49</th>\n",
       "      <td>think</td>\n",
       "      <td>4</td>\n",
       "    </tr>\n",
       "    <tr>\n",
       "      <th>103</th>\n",
       "      <td>down</td>\n",
       "      <td>3</td>\n",
       "    </tr>\n",
       "    <tr>\n",
       "      <th>57</th>\n",
       "      <td>as</td>\n",
       "      <td>3</td>\n",
       "    </tr>\n",
       "    <tr>\n",
       "      <th>28</th>\n",
       "      <td>shall</td>\n",
       "      <td>3</td>\n",
       "    </tr>\n",
       "  </tbody>\n",
       "</table>\n",
       "</div>"
      ],
      "text/plain": [
       "      Word  Frequency\n",
       "25       i          8\n",
       "32     the          8\n",
       "4       to          7\n",
       "11     was          5\n",
       "71     you          4\n",
       "22     she          4\n",
       "49   think          4\n",
       "103   down          3\n",
       "57      as          3\n",
       "28   shall          3"
      ]
     },
     "execution_count": 11,
     "metadata": {},
     "output_type": "execute_result"
    }
   ],
   "source": [
    "get_top_k_words(cleaned_text, 10)"
   ]
  },
  {
   "cell_type": "markdown",
   "metadata": {},
   "source": [
    "## Compare performance"
   ]
  },
  {
   "cell_type": "code",
   "execution_count": 14,
   "metadata": {},
   "outputs": [],
   "source": [
    "result_dict = {}\n",
    "\n",
    "start_time = time.time()\n",
    "token_spc = tokenize_spacy(cleaned_text)\n",
    "end_time = time.time()\n",
    "result_dict[\"Spacy\"] = {\n",
    "    'execution_time_sec': end_time - start_time,\n",
    "    'tokens':token_spc\n",
    "}\n",
    "\n",
    "start_time = time.time()\n",
    "token_txtblob = tokenize_textblob(cleaned_text)\n",
    "end_time = time.time()\n",
    "result_dict[\"TextBlob\"] = {\n",
    "    'execution_time_sec': end_time - start_time,\n",
    "    'tokens':token_txtblob\n",
    "}\n",
    "\n",
    "start_time = time.time()\n",
    "token_nltk = tokenize_nltk(cleaned_text)\n",
    "end_time = time.time()\n",
    "result_dict[\"nltk\"] = {\n",
    "    'execution_time_sec': end_time - start_time,\n",
    "    'tokens':token_nltk\n",
    "}\n",
    "\n",
    "all_results = {\n",
    "    'method': [],\n",
    "    'execution_time_sec': [],\n",
    "    'tokens': []\n",
    "}\n",
    "\n",
    "for method, result in result_dict.items():\n",
    "    all_results['method'].append(method)\n",
    "    all_results['execution_time_sec'].append(result['execution_time_sec'])\n",
    "    all_results['tokens'].append(result['tokens'])"
   ]
  },
  {
   "cell_type": "code",
   "execution_count": 16,
   "metadata": {},
   "outputs": [
    {
     "data": {
      "text/html": [
       "<div>\n",
       "<style scoped>\n",
       "    .dataframe tbody tr th:only-of-type {\n",
       "        vertical-align: middle;\n",
       "    }\n",
       "\n",
       "    .dataframe tbody tr th {\n",
       "        vertical-align: top;\n",
       "    }\n",
       "\n",
       "    .dataframe thead th {\n",
       "        text-align: right;\n",
       "    }\n",
       "</style>\n",
       "<table border=\"1\" class=\"dataframe\">\n",
       "  <thead>\n",
       "    <tr style=\"text-align: right;\">\n",
       "      <th></th>\n",
       "      <th>method</th>\n",
       "      <th>execution_time_sec</th>\n",
       "      <th>tokens</th>\n",
       "    </tr>\n",
       "  </thead>\n",
       "  <tbody>\n",
       "    <tr>\n",
       "      <th>0</th>\n",
       "      <td>Spacy</td>\n",
       "      <td>0.018300</td>\n",
       "      <td>[or, longitude, i, ve, got, to, alice, had, no...</td>\n",
       "    </tr>\n",
       "    <tr>\n",
       "      <th>1</th>\n",
       "      <td>TextBlob</td>\n",
       "      <td>0.000854</td>\n",
       "      <td>[or, longitude, ive, got, to, alice, had, no, ...</td>\n",
       "    </tr>\n",
       "    <tr>\n",
       "      <th>2</th>\n",
       "      <td>nltk</td>\n",
       "      <td>0.000369</td>\n",
       "      <td>[or, longitude, ive, got, to, alice, had, no, ...</td>\n",
       "    </tr>\n",
       "  </tbody>\n",
       "</table>\n",
       "</div>"
      ],
      "text/plain": [
       "     method  execution_time_sec  \\\n",
       "0     Spacy            0.018300   \n",
       "1  TextBlob            0.000854   \n",
       "2      nltk            0.000369   \n",
       "\n",
       "                                              tokens  \n",
       "0  [or, longitude, i, ve, got, to, alice, had, no...  \n",
       "1  [or, longitude, ive, got, to, alice, had, no, ...  \n",
       "2  [or, longitude, ive, got, to, alice, had, no, ...  "
      ]
     },
     "execution_count": 16,
     "metadata": {},
     "output_type": "execute_result"
    }
   ],
   "source": [
    "results = pd.DataFrame(all_results)\n",
    "results"
   ]
  }
 ],
 "metadata": {
  "kernelspec": {
   "display_name": "Python 3.10.13 ('nlpenv': venv)",
   "language": "python",
   "name": "python3"
  },
  "language_info": {
   "codemirror_mode": {
    "name": "ipython",
    "version": 3
   },
   "file_extension": ".py",
   "mimetype": "text/x-python",
   "name": "python",
   "nbconvert_exporter": "python",
   "pygments_lexer": "ipython3",
   "version": "3.10.13"
  },
  "orig_nbformat": 4,
  "vscode": {
   "interpreter": {
    "hash": "d1b9bcdc382df04be06aa86b23d9d7b412dd5033c0b20ccee8a1c3ddf75e7b90"
   }
  }
 },
 "nbformat": 4,
 "nbformat_minor": 2
}
